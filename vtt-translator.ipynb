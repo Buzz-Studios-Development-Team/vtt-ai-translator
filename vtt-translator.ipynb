{
 "cells": [
  {
   "cell_type": "markdown",
   "metadata": {},
   "source": [
    "# VTT AI Translator\n",
    "## About\n",
    "This is a notebook to translate VTT subtitle / caption files fluently using the OpenAI API and webvtt. It can be switched to Deepseek easily in the future for more cost-efficient processing. Made by Connor Wright for Georgia Tech's Buzz Studios Filmmaking Club. \n",
    "\n",
    "## How to Use \n",
    "* Clone the repo\n",
    "* Change the folder / file paths to the respective vtt\n",
    "* Set a language using the ISO language code\n",
    "* Put in an OpenAI API key (or ask for mine)\n",
    "* Run all the cells"
   ]
  },
  {
   "cell_type": "code",
   "execution_count": null,
   "metadata": {},
   "outputs": [],
   "source": [
    "### pip installations\n",
    "%pip install openai\n",
    "%pip install webvtt-py"
   ]
  },
  {
   "cell_type": "code",
   "execution_count": 38,
   "metadata": {},
   "outputs": [],
   "source": [
    "### Package imports\n",
    "from openai import OpenAI\n",
    "import os\n",
    "import webvtt"
   ]
  },
  {
   "cell_type": "code",
   "execution_count": 69,
   "metadata": {},
   "outputs": [],
   "source": [
    "### Setup variables\n",
    "## Set file paths / language output \n",
    "folder_path = \"/Users/connorwright/Downloads/GT.CS.CodeFiles/BuzzStudios/Assets/Subtitles/\"\n",
    "vtt_name = \"frisbee-fables-cc.vtt\"\n",
    "trans_lang = \"es\"\n",
    "\n",
    "## Set API Key \n",
    "api_key = \"\"\n",
    "\n",
    "vtt_path = os.path.join(folder_path, vtt_name)"
   ]
  },
  {
   "cell_type": "code",
   "execution_count": null,
   "metadata": {},
   "outputs": [],
   "source": [
    "### Turn original captions into single string for GPT input \n",
    "captions = []\n",
    "for caption in webvtt.read(vtt_path):\n",
    "    #print(caption.start)  # start timestamp in text format\n",
    "    #print(caption.end)  # end timestamp in text format\n",
    "    #print(caption.text)  # caption text\n",
    "    #print(caption.voice)  # voice span if present\n",
    "    captions.append(caption.text)\n",
    "\n",
    "captions = \"\\n\".join(captions) if isinstance(captions, list) else str(captions)\n",
    "print(captions)\n"
   ]
  },
  {
   "cell_type": "code",
   "execution_count": null,
   "metadata": {},
   "outputs": [],
   "source": [
    "### Setup OpenAI client and context\n",
    "#client = OpenAI(api_key=\"\", base_url=\"https://api.deepseek.com\")\n",
    "client = OpenAI(api_key=api_key)\n",
    "\n",
    "response = client.chat.completions.create(\n",
    "    model=\"gpt-4o-mini\",\n",
    "    messages=[\n",
    "        {\"role\": \"system\", \"content\": \"You are a professional subtitle translator. \\\n",
    "            You will only receive a string transcription of a vtt file containing subtitles in English. \\\n",
    "            You will only output a translation of the subtitles and bracketed actions. \\\n",
    "            Do not add anything else to your reply.\\\n",
    "            Do not merge sentences, translate each line individually. \\\n",
    "            Return the translated subtitles in the same order and length as the input. \\\n",
    "            Your steps are as follows: \\\n",
    "            1. Parse the input subtitles \\\n",
    "            2. Translate the input subtitles into {trans_lang} \\\n",
    "            3. Alter the translated subtitles into more fluent sentences \\\n",
    "            4. Use the setResult method to output the translated subtitles as a string[] \\\n",
    "         \"},\n",
    "        {\"role\": \"user\", \"content\": captions}\n",
    "    ]\n",
    ")\n",
    "\n",
    "print(response)"
   ]
  },
  {
   "cell_type": "code",
   "execution_count": null,
   "metadata": {},
   "outputs": [],
   "source": [
    "### Save translated captions as new vtt file \n",
    "\n",
    "## Get GPT response as string, split into list\n",
    "trans_str = str(response.choices[0].message.content)\n",
    "trans_list = trans_str.split(\"\\n\")\n",
    "print(trans_list)\n",
    "\n",
    "## Edit caption files to match translations, accounting for multi-line texts \n",
    "trans_vtt = webvtt.read(vtt_path)\n",
    "line_index = 0\n",
    "for caption in trans_vtt:\n",
    "    num_lines = len(caption.text.split(\"\\n\"))\n",
    "    trans_lines = trans_list[line_index:line_index+num_lines]\n",
    "    caption.text = \"\\n\".join(trans_lines)\n",
    "    line_index += num_lines\n",
    "\n",
    "## Save as new file w/ specified language name \n",
    "trans_filename = str(os.path.splitext(vtt_name)[0]) + '-' + str(trans_lang) + '.vtt'\n",
    "trans_path = os.path.join(folder_path, trans_filename)\n",
    "trans_vtt.save(trans_path)"
   ]
  }
 ],
 "metadata": {
  "kernelspec": {
   "display_name": "Python 3",
   "language": "python",
   "name": "python3"
  },
  "language_info": {
   "codemirror_mode": {
    "name": "ipython",
    "version": 3
   },
   "file_extension": ".py",
   "mimetype": "text/x-python",
   "name": "python",
   "nbconvert_exporter": "python",
   "pygments_lexer": "ipython3",
   "version": "3.10.10"
  }
 },
 "nbformat": 4,
 "nbformat_minor": 2
}
