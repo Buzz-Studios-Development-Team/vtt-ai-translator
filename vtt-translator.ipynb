{
 "cells": [
  {
   "cell_type": "markdown",
   "metadata": {},
   "source": [
    "# VTT AI Translator\n",
    "## About\n",
    "This is a notebook to translate VTT subtitle / caption files fluently using the OpenAI API and webvtt. It can be switched to Deepseek easily in the future for more cost-efficient processing. Made by Connor Wright for Georgia Tech's Buzz Studios Filmmaking Club. \n",
    "\n",
    "## How to Use \n",
    "* Clone the repo\n",
    "* Change the folder / file paths to the respective vtt\n",
    "* Set a language using the ISO language code\n",
    "* Put in an OpenAI API key (or ask for mine)\n",
    "* Run all the cells"
   ]
  },
  {
   "cell_type": "code",
   "execution_count": 55,
   "metadata": {},
   "outputs": [
    {
     "name": "stdout",
     "output_type": "stream",
     "text": [
      "Requirement already satisfied: openai in ./.venv/lib/python3.10/site-packages (1.79.0)\n",
      "Requirement already satisfied: anyio<5,>=3.5.0 in ./.venv/lib/python3.10/site-packages (from openai) (4.9.0)\n",
      "Requirement already satisfied: distro<2,>=1.7.0 in ./.venv/lib/python3.10/site-packages (from openai) (1.9.0)\n",
      "Requirement already satisfied: httpx<1,>=0.23.0 in ./.venv/lib/python3.10/site-packages (from openai) (0.28.1)\n",
      "Requirement already satisfied: jiter<1,>=0.4.0 in ./.venv/lib/python3.10/site-packages (from openai) (0.10.0)\n",
      "Requirement already satisfied: pydantic<3,>=1.9.0 in ./.venv/lib/python3.10/site-packages (from openai) (2.11.4)\n",
      "Requirement already satisfied: sniffio in ./.venv/lib/python3.10/site-packages (from openai) (1.3.1)\n",
      "Requirement already satisfied: tqdm>4 in ./.venv/lib/python3.10/site-packages (from openai) (4.67.1)\n",
      "Requirement already satisfied: typing-extensions<5,>=4.11 in ./.venv/lib/python3.10/site-packages (from openai) (4.13.2)\n",
      "Requirement already satisfied: exceptiongroup>=1.0.2 in ./.venv/lib/python3.10/site-packages (from anyio<5,>=3.5.0->openai) (1.3.0)\n",
      "Requirement already satisfied: idna>=2.8 in ./.venv/lib/python3.10/site-packages (from anyio<5,>=3.5.0->openai) (3.10)\n",
      "Requirement already satisfied: certifi in ./.venv/lib/python3.10/site-packages (from httpx<1,>=0.23.0->openai) (2025.4.26)\n",
      "Requirement already satisfied: httpcore==1.* in ./.venv/lib/python3.10/site-packages (from httpx<1,>=0.23.0->openai) (1.0.9)\n",
      "Requirement already satisfied: h11>=0.16 in ./.venv/lib/python3.10/site-packages (from httpcore==1.*->httpx<1,>=0.23.0->openai) (0.16.0)\n",
      "Requirement already satisfied: annotated-types>=0.6.0 in ./.venv/lib/python3.10/site-packages (from pydantic<3,>=1.9.0->openai) (0.7.0)\n",
      "Requirement already satisfied: pydantic-core==2.33.2 in ./.venv/lib/python3.10/site-packages (from pydantic<3,>=1.9.0->openai) (2.33.2)\n",
      "Requirement already satisfied: typing-inspection>=0.4.0 in ./.venv/lib/python3.10/site-packages (from pydantic<3,>=1.9.0->openai) (0.4.0)\n",
      "Note: you may need to restart the kernel to use updated packages.\n",
      "Requirement already satisfied: webvtt-py in ./.venv/lib/python3.10/site-packages (0.5.1)\n",
      "Note: you may need to restart the kernel to use updated packages.\n"
     ]
    }
   ],
   "source": [
    "### pip installations\n",
    "%pip install openai\n",
    "%pip install webvtt-py"
   ]
  },
  {
   "cell_type": "code",
   "execution_count": 56,
   "metadata": {},
   "outputs": [],
   "source": [
    "### Package imports\n",
    "from openai import OpenAI\n",
    "import os\n",
    "import webvtt\n",
    "import copy"
   ]
  },
  {
   "cell_type": "code",
   "execution_count": null,
   "metadata": {},
   "outputs": [],
   "source": [
    "### Setup variables\n",
    "## Set file paths / language output \n",
    "folder_path = \"/Users/connorwright/Downloads/GT.CS.CodeFiles/BuzzStudios/Assets/Subtitles/\"\n",
    "vtt_name = \"antr-English.vtt\"\n",
    "trans_lang = \"es\"\n",
    "language = \"Spanish\"\n",
    "\n",
    "## Set API Key \n",
    "api_key = \"\"\n",
    "\n",
    "vtt_path = os.path.join(folder_path, vtt_name)"
   ]
  },
  {
   "cell_type": "code",
   "execution_count": null,
   "metadata": {},
   "outputs": [
    {
     "name": "stdout",
     "output_type": "stream",
     "text": [
      "00:00:29.208 00:00:38.333 [”Jazz Opener/Graham’s Theme” by Joshua Ancrademption]\n"
     ]
    }
   ],
   "source": [
    "### Turn original captions into single string for GPT input \n",
    "captions_list = []\n",
    "captions = []\n",
    "captions_2 = []\n",
    "\n",
    "curr_chars = 0\n",
    "max_tokens = 32000 # 4o-mini limit is 16000 tokens. 4 chars per token. Divide by 2 for safety\n",
    "\n",
    "vtt = webvtt.read(vtt_path)\n",
    "\n",
    "for index, caption in enumerate(webvtt.read(vtt_path)):\n",
    "    caption.text = caption.text.replace(\"\\n\", f\" ~ \")\n",
    "    caption_text = caption.text + f\" #{index}# \"\n",
    "    captions_2.append(caption_text)\n",
    "\n",
    "\n",
    "## Chunking functionality (removed)\n",
    "'''\n",
    "if captions:\n",
    "    captions_list.append(copy.deepcopy(captions))\n",
    "\n",
    "captions_list = [\n",
    "    \"\\n\".join(c) if isinstance(c, list) else str(c)\n",
    "    for c in captions_list\n",
    "]\n",
    "'''\n",
    "\n",
    "\n",
    "captions_2 = \" | \".join(captions_2) if isinstance(captions_2, list) else str(captions_2)\n",
    "print(webvtt.read(vtt_path)[0])\n",
    "\n",
    "captions = captions_2\n"
   ]
  },
  {
   "cell_type": "code",
   "execution_count": null,
   "metadata": {},
   "outputs": [
    {
     "name": "stdout",
     "output_type": "stream",
     "text": [
      "ChatCompletion(id='chatcmpl-BaVbIUvQMpAnZbEXhnXx1Fj6cNaLi', choices=[Choice(finish_reason='stop', index=0, logprobs=None, message=ChatCompletionMessage(content='[”Jazz Opener/Graham’s Theme” de Joshua Ancrademption] #0#  | [Aaron] ¿Seguro que no estás bebiendo ~ ese jugo esta noche, Devin? #1#  | [Devin] Eso fue una cosa de una sola vez. #2#  | [Devin] Graham, ¿quieres algo? #3#  | [Graham] Está bien, pero gracias. #4#  | Entonces, ¿cuál es tu opinión sobre ~ el proyecto, Graham? #5#  | Hombre, no sé. #6#  | Simplemente no entiendo por qué esperan que ~ implementemos un datapath completo en tres semanas. #7#  | Yo tampoco. #8#  | Solo estoy tratando de mantener mi calificación. #9#  | Por favor, mantén ese proyecto fuera de aquí esta noche. #10#  | No tengo ni idea de qué es un datapath, #11#  | y, sinceramente, estoy mejor sin saberlo. #12#  | [Aaron] Justo. #13#  | ¿Cómo ha estado tu fin de semana, de todos modos? #14#  | Quiero decir, podría haber sido peor. #15#  | Pasé la semana estudiando para ese examen de termo ~ y practicando mi bateo. #16#  | Pero hablando de eso, mejor ~ los veré a todos en el juego el viernes. #17#  | Mi equipo ha trabajado duro para llegar a ~ los playoffs, así que realmente podría usar el apoyo. #18#  | Así que por favor, vengan. #19#  | ¡Oh, sí! ¡Por supuesto que iremos! #20#  | [Graham] Sí. #21#  | Oye, hay un festival que sucederá este ~ fin de semana en el lado este del campus. #22#  | Si quieren, podemos-- ~ [Devin] No puedo. Lo siento. Tengo muchas cosas que hacer #23#  | después del juego, así que #24#  | no puedo ir. #25#  | ¡Está bien! #26#  | Sí, claro. #27#  | Aaron, ¿y tú? #28#  | ¿Este fin de semana? #29#  | Tengo algunas cosas que debo atender, ~ ¡pero diviértanse! #30#  | Está bien. #31#  | Sí, por supuesto. Así que tengo. #32#  | Lo siento, Graham. #33#  | Quizás la próxima vez. #34#  | [saxofón desinflado] #35#  | Oye. #36#  | ¿Algún progreso hasta ahora? #37#  | Creo que estoy avanzando, #38#  | pero aún tengo que probarlo. #39#  | Así que, básicamente #40#  | en ningún lado entonces. #41#  | Sabes, #42#  | desearía tener algo a qué ~ esperar después de terminar esto. #43#  | La escuela está empezando a ~ sentirse como todo lo que hago. #44#  | Sí, te entiendo en eso. #45#  | ¿Vas al juego de Devin esta noche? #46#  | Sí, supongo. #47#  | No realmente sé cuál es ~ el gran trato al respecto, sin embargo, #48#  | Quiero decir, ¿no juegan como, la mitad ~ de las noches de la semana de todos modos? #49#  | Quiero decir, sabes cuánto ~ significan los playoffs para él, ¿verdad? #50#  | El equipo no ha llegado a los playoffs ~ en los últimos, ¿qué, un par de años? #51#  | Así que... el juego es realmente importante para él. #52#  | Amigo, me haces ~ sonar como una mala persona. #53#  | Mira, simplemente no entiendo realmente ~ el atractivo de esto, ¿de acuerdo? #54#  | Quiero decir, solo soy yo, sin embargo. #55#  | Lo único que digo es, #56#  | es que ha trabajado muy duro para esto. #57#  | Sé que le encantaría ~ que estuvieras allí para apoyarlo. #58#  | Por supuesto. #59#  | Bueno, #60#  | tengo que irme. #61#  | Tengo otra clase a la que asistir, y #62#  | he perdido suficientes ~ clases este semestre. #63#  | ¿Vas a seguir trabajando en el proyecto? #64#  | Sí, sí, seguiré trabajando en ello. #65#  | Oye, gracias Graham. #66#  | Claro. #67#  | Oye, te veré más tarde, ¿verdad? #68#  | Sí, claro. #69#  | Oh, déjame mover mis cosas. #70#  | Oh, no. ¡No te preocupes, estás bien! #71#  | Lo siento, a veces puedo ser un poco desordenado. #72#  | ¿Cuál es tu nombre? #73#  | Soy Graham. #74#  | ¿Y tú? #75#  | Polly. #76#  | [Graham] Encantado de conocerte-- ~ [Polly] Encantada de conocerte-- #77#  | [Graham] ...conocerte. ~ [Polly] Es un placer conocerte. #78#  | Sabes, es curioso cómo nuestros ~ nombres van juntos. #79#  | ¿Sí? #80#  | Sí, ¿cómo así? #81#  | De hecho, es un poco tonto. #82#  | Estoy seguro de que es mejor que cualquier ~ cosa que se me ocurra. #83#  | Está bien, bueno, no pude evitar pensar #84#  | en cómo ambos nombres ~ tienen algo que ver con una galleta. #85#  | Como, tu nombre es un poco ~ como galleta Graham. #86#  | [Polly] Y mi nombre es-- ~ [Graham] Como el loro. #87#  | ¡Sí! ¡Como el loro! #88#  | Oye, ¿a qué hora empieza ese juego, Devin? #89#  | [Aaron] ¡Devin! ~ [Devin] ¿Sí? #90#  | ¿A qué hora empieza el juego? #91#  | Quiero decir, probablemente saldré ~ en qué, un par de minutos #92#  | solo porque un par de los otros ~ chicos están almorzando antes. #93#  | Pero diría que aparezcan alrededor de, ~ como, 4:30, solo para conseguir buenos asientos. #94#  | Genial. #95#  | ¿Graham? #96#  | ¿Todavía vas a venir? #97#  | Sí, estaré allí. #98#  | ¿Estás seguro de que no vas a pasar la ~ noche con esa chica? #99#  | Oh, Graham, ¿tienes una chica ahora? #100#  | Sí. ¿Conoces a alguien llamada Polly? #101#  | No creo. #102#  | Está bien, la conocí en el estudio ayer. #103#  | En realidad nos llevamos muy bien. #104#  | Vamos a juntarnos para almorzar pronto #105#  | [Graham] y luego probablemente-- ~ [Devin] Y luego vendrás ~ al juego esta noche. ¿Verdad? #106#  | Sí, sí, ~ voy a ir a tu juego. #107#  | No te preocupes por eso. #108#  | Está bien. Muchas gracias, Graham. #109#  | Oh, por cierto, reservé ~ tiempo para el sábado por la noche, #110#  | así que deberíamos poder tener ~ nuestra cena habitual de nuevo. #111#  | Deberías traer... #112#  | ...es Polly, ¿verdad, Graham? #113#  | Sí. Polly. #114#  | Sí, llévala contigo, #115#  | porque tengo curiosidad por ver ~ qué ve en ti. #116#  | Entonces realmente estábamos en problemas ~ porque el oficial de policía #117#  | estaba en la única salida llamando por nosotros. #118#  | Espera, ¿así que viste esa vista ~ desde lo alto del edificio? #119#  | Sí. Sí, fue increíble. #120#  | Tienes que verlo alguna vez. #121#  | Es genial, ¿ya lo has visto? #122#  | No he oído de eso, ¿de qué se trata? #123#  | Está bien, así que se trata de este tipo #124#  | que viaja por el mundo mientras va a ~ aventuras por todas partes, #125#  | mientras construye ~ su carrera al mismo tiempo. #126#  | Mira, ¿ves ese pájaro? #127#  | Y hay algo #128#  | que quería mostrarte en mi diario. #129#  | Espera, espera. #130#  | Honestamente, es el tipo de cosa ~ que me encantaría hacer algún día. #131#  | Oye, ¿has escuchado de Graham? #132#  | Se supone que tiene que cocinar esta noche, ~ pero no ha respondido a ninguna de mis llamadas. #133#  | No he. #134#  | [Aaron] Quizás esté aquí pronto. #135#  | Por supuesto. #136#  | Está bien. #137#  | ¿Qué pasa, todos? #138#  | ¡Hola, chicos! #139#  | Lo siento, llegamos tarde. Nos distrajimos un poco. #140#  | Esta es Polly. #141#  | Polly, este es Aaron en la mesa ~ y Devin en el mostrador. #142#  | ¡Hola! #143#  | [Aaron] Encantado de conocerte, Polly. #144#  | Estamos básicamente listos ~ si ustedes quieren tomar asiento. #145#  | Genial. #146#  | Sí, vamos. #147#  | [Graham] Toma asiento. #148#  | [Polly] Gracias. #149#  | Pensé que ibas a cocinar algo, Graham. #150#  | No, no pude hacerlo. #151#  | Bueno, entonces supongo que solo tengo que ~ calificar tu cocina, Devin. #152#  | ¡Esto está bueno! Mis cumplidos al chef. #153#  | Gracias. Polly. #154#  | Sabes, los condimentos principalmente lo mantienen juntos, ~ pero, ¿te dedicas mucho a cocinar? #155#  | No tanto como me gustaría. #156#  | Gran parte de mi tiempo se ocupa ~ por el club de drama, en realidad. #157#  | ¡Oh! Polly, no sabía que ~ eras parte del club de drama. #158#  | ¿De verdad? #159#  | Hablo de ello todo el tiempo. #160#  | Soy vicepresidente, de hecho. #161#  | Entonces, ¿qué tipo de cosas ~ haces, Devin? #162#  | Bueno, no soy vicepresidente ni nada, #163#  | pero en realidad juego para el equipo de ~ béisbol de la escuela. #164#  | ¿Tuviste la oportunidad de ver el juego de ayer? #165#  | Oh, no. #166#  | No sabía que había un juego ayer. #167#  | [Aaron] Oh, fueron geniales. #168#  | Sabes, cuando el entrenador ~ realmente les da un descanso, #169#  | en realidad organizamos algunas de ~ las fiestas aquí. #170#  | Ellos vienen, pasan el rato. #171#  | Solo se quedan por unas horas. #172#  | Eso suena divertido. #173#  | Quiero decir, seguramente Graham te contó sobre eso. #174#  | ¿Verdad? #175#  | Sí. #176#  | No fui a tu juego, Devin. #177#  | Claro que no, Graham. #178#  | Porque, ¿cuándo estás alguna vez ahí para alguien? #179#  | ¿Eh? #180#  | [Aaron] Quizás ahora no sea el momento. #181#  | No, no, no, no, no. ~ Quizás sí lo sea, Aaron. #182#  | Vamos, Graham. #183#  | ¿Ni siquiera le preguntaste a Polly aquí #184#  | qué hace en su tiempo libre? #185#  | ¿Eh? #186#  | Porque, ¿cuándo fue la última vez ~ que te importó alguien #187#  | más que a ti mismo? #188#  | ¿Eh? #189#  | Discúlpame. #190#  | [Devin] Lo siento, Polly. #191#  | No quise involucrarte en esto. #192#  | [La puerta se cierra de golpe] #193#  | [saxofón desinflado] #194#  | [Aaron] ¡Oye! #195#  | Pensé que podría encontrarte aquí. #196#  | No deberías estar aquí. #197#  | Por supuesto que debería estar. #198#  | No lo entiendo, Aaron. #199#  | Literalmente nada en mi vida ~ funciona. #200#  | ¿Qué quieres decir? #201#  | Quiero decir, trato de hacer planes ~ y todos están ocupados. #202#  | Trato de conocer a alguien nuevo, y ~ todos los demás se llevan mejor con ellos. #203#  | Literalmente nada me sale bien. #204#  | No hables de ti ~ así, Graham. #205#  | Vamos. #206#  | Tú y yo sabemos lo estresante ~ que ha sido todo últimamente para nosotros. #207#  | Quiero decir, demonios, ~ ni siquiera hemos terminado ese proyecto aún. #208#  | Oh, amigo. #209#  | Oíste lo que dijo Devin. #210#  | Probablemente él solo me odia. #211#  | Además, estaba tratando de ~ avergonzarme frente a Polly, de todos modos. #212#  | Mira, puedo prometerte #213#  | que Devin no te odia, ¿de acuerdo? #214#  | Quiero decir, si tuvieras una mejor ~ comunicación con todos, #215#  | las cosas podrían no haber salido ~ como lo hicieron esta noche. #216#  | Graham, ~ ¿puedo ser totalmente honesto contigo? #217#  | Y prometes escucharme ~ hasta el final, ¿de acuerdo? #218#  | No quiero que digas que yo te odio también. #219#  | Está bien. #220#  | [Aaron] Bien. #221#  | [Graham] Te escucho. #222#  | Graham, yo... #223#  | Solo creo que a veces tú #224#  | no consideras ~ los deseos de las personas que te rodean. #225#  | ¿Está bien? Tú... #226#  | Tienes esta ambición de salir ~ y hacer cosas que son vitales #227#  | y importantes, ~ y eso está bien. Pero, #228#  | quiero decir, a veces hace que todo lo demás ~ parezca mundano. #229#  | Quiero decir, solo, solo piénsalo, amigo. #230#  | Reservamos tiempo para cenar juntos ~ cada semana. #231#  | No piensas en esos momentos, #232#  | ¿verdad? #233#  | Los das por hecho. #234#  | Y quiero decir, ~ si no puedes apreciar esos momentos, #235#  | ¿por qué alguien querría arriesgarse a ~ salir de su zona de confort #236#  | para hacer algo contigo? #237#  | Yo, eh... #238#  | ...nunca... #239#  | Nunca lo había pensado de esa manera antes. #240#  | ¿Soy una mala persona, Aaron? #241#  | ¿Qué? #242#  | No, por supuesto que no. #243#  | No eres una mala persona. #244#  | Quiero decir, oye, sin ti, ya sabes, ~ no habría hecho tanto para #245#  | salir de mi zona de confort. #246#  | Solo creo que a veces tú, ya sabes, ~ olvidas que la vida. #247#  | no es... #248#  | no se trata solo de los momentos altos. #249#  | Oye, vamos a dar un paseo. #250#  | Sí. #251#  | ¿Sí? #252#  | Sí, claro. #253#  | Siempre pareces tan contento ~ con las cosas, Aaron. #254#  | ¿Cómo equilibras todo? #255#  | ¿De qué hablas? #256#  | Quiero decir, cada vez que te veo, ~ tu trabajo de clase está bajo control, #257#  | tus proyectos están al día, y todavía ~ tienes tiempo para cosas como el juego de Devin. #258#  | No sé de dónde escuchaste ~ eso, pero #259#  | siento que ~ apenas tengo tiempo para mí. #260#  | No hay forma de que eso sea cierto. #261#  | Quiero decir, tu vida es tan plena. #262#  | ¿Cómo lo haces todo? #263#  | Tengo una idea. #264#  | ¿Qué opinas de la vista? #265#  | Es agradable. #266#  | [Aaron] No, no lo ves. #267#  | ¿Ver qué? #268#  | Quiero decir. #269#  | Solo mira. #270#  | Es hermosa, #271#  | pero todos la dan por sentada. #272#  | Siento que tú haces lo mismo. #273#  | Bueno, si ese es mi problema, #274#  | ¿cómo me arreglo? #275#  | Todo lo que necesitas ~ ya está enfrente de ti. #276#  | Solo tienes que #277#  | notarlo. #278#  | [”Now She Hates Me” de Michael Mitchell] #279#  | Voy a construir una caja. #280#  | O, no construyas una caja... #281#  | ¿Qué debo hacer? #282#  | ¡Construye una ventana! ~ [Devin] ¿Cómo construyes una ventana? #283#  | ¡Mantén X! #284#  | Mira, ¿ves ese pájaro? #285#  | Eso es increíble. #286#  | Nunca los veo por aquí. #287#  | Oh. Eso es una locura. #288#  | Sabes, pueden volar como... #289#  | [”Groove for Sparta” de Bill Nichols y Michael Mitchell] #290#  | Y mi nombre es un poco-- #291#  | Como el loro. #292#  | Sí, #293#  | [Polly] ¡Como el loro! ~ [Graham] Como el loro. ~ ¿Tienes un loro? #294#  | ¡Oh, vamos! #295#  | No, he querido uno, pero... #296#  | ¿Sí? #297#  | Viven para siempre, ¿sabes eso? #298#  | Lo hacen, tienes que ponerlos en tu testamento. #299#  | Original. #300#  | Alguien tiene que ser. #301#  | ¡Hermano! #302#  | Puedes empezar a ganar juegos. #303#  | Entraron a los playoffs. #304#  | [Devin] Sí, lo hicimos. Seis años. ~ [Graham] Por un pelo. #305#  | ¡Lo acerté, lo acerté, lo acerté! #306#  | Subtitulación por Ethan Ollins #307#', refusal=None, role='assistant', annotations=[], audio=None, function_call=None, tool_calls=None))], created=1748040980, model='gpt-4o-mini-2024-07-18', object='chat.completion', service_tier='default', system_fingerprint='fp_92e0377081', usage=CompletionUsage(completion_tokens=4414, prompt_tokens=4426, total_tokens=8840, completion_tokens_details=CompletionTokensDetails(accepted_prediction_tokens=0, audio_tokens=0, reasoning_tokens=0, rejected_prediction_tokens=0), prompt_tokens_details=PromptTokensDetails(audio_tokens=0, cached_tokens=4352)))\n"
     ]
    }
   ],
   "source": [
    "### Setup OpenAI client and context\n",
    "#client = OpenAI(api_key=\"\", base_url=\"https://api.deepseek.com\")\n",
    "client = OpenAI(api_key=api_key)\n",
    "\n",
    "system_message = f\"\"\"You are a professional subtitle translator. \\\n",
    "            You will only receive a string transcription of a vtt file containing subtitles in English. \\\n",
    "            You will only output a {language} translation of the subtitles and bracketed actions. \\\n",
    "            Do not add anything else to your reply.\\\n",
    "            Do not merge sentences, translate each line individually. \\\n",
    "            Return the translated subtitles in the same order and length as the input. \\\n",
    "            Your steps are as follows: \\\n",
    "            1. Parse the input subtitles \\\n",
    "            2. Translate each line into {language} with language code {trans_lang}. Do not change or remove any '~' or '|' or '#\\d#' characters. If there is a '~' or a '|' or a '#' mid-sentence, keep it mid-sentence. \\\n",
    "            3. Alter the translated subtitles into more fluent sentences \\\n",
    "            4. Use the setResult method to output the translated subtitles as a string[].\n",
    "\"\"\"\n",
    "\n",
    "'''\n",
    "### Response chunking -- removed \n",
    "responses = []\n",
    "for captions in captions_list:\n",
    "    response = client.chat.completions.create(\n",
    "        model=\"gpt-4o-mini\",\n",
    "        messages=[\n",
    "            {\"role\": \"system\", \"content\": system_message},\n",
    "            {\"role\": \"user\", \"content\": captions}\n",
    "        ]\n",
    "    )\n",
    "    responses.append(response)\n",
    "'''\n",
    "response = client.chat.completions.create(\n",
    "    model=\"gpt-4o-mini\",\n",
    "    messages=[\n",
    "        {\"role\": \"system\", \"content\": system_message},\n",
    "        {\"role\": \"user\", \"content\": captions}\n",
    "    ]\n",
    ")\n",
    "    \n",
    "print(response)"
   ]
  },
  {
   "cell_type": "code",
   "execution_count": 73,
   "metadata": {},
   "outputs": [
    {
     "name": "stdout",
     "output_type": "stream",
     "text": [
      "00:00:29.208 00:00:38.333 [”Jazz Opener/Graham’s Theme” de Joshua Ancrademption]\n"
     ]
    }
   ],
   "source": [
    "### Save translated captions as new vtt file \n",
    "import re\n",
    "\n",
    "def extract_index(text):\n",
    "    match = re.search(r\"#(\\d+)#\", text)\n",
    "    if match:\n",
    "        return int(match.group(1))\n",
    "    else:\n",
    "        return None\n",
    "\n",
    "## Get GPT response as string, split into list\n",
    "trans_str = str(response.choices[0].message.content)\n",
    "trans_list = trans_str.split(\" | \")\n",
    "\n",
    "trans_vtt = webvtt.read(vtt_path)\n",
    "\n",
    "\n",
    "## Create a dictionary for accessing translated captions in case GPT missed lines\n",
    "index_to_translation = {}\n",
    "for line in trans_list:\n",
    "    idx = extract_index(line)\n",
    "    if idx is not None:\n",
    "        cleaned_line = re.sub(r'#\\d+#\\s*$', '', line).strip()\n",
    "        index_to_translation[idx] = cleaned_line\n",
    "        #print(idx, cleaned_line)\n",
    "\n",
    "## Replace original captions with translated lines\n",
    "line_index = 0\n",
    "for i, caption in enumerate(trans_vtt):\n",
    "    num_lines = len(caption.text.split(\" ~ \"))\n",
    "    if i in index_to_translation:\n",
    "        trans_lines = []\n",
    "        for j in range(line_index, line_index+num_lines):\n",
    "            trans_lines.append(index_to_translation[j])\n",
    "        caption.text = \"\\n\".join(trans_lines).replace(\" ~ \", \"\\n\")\n",
    "    else:\n",
    "        caption.text = \"[MISSING TRANSLATION] \\n\" ##could also just set it as the untranslated text\n",
    "\n",
    "    line_index += num_lines\n",
    "\n",
    "\n",
    "## Save as new file w/ specified language name \n",
    "trans_filename = str(os.path.splitext(vtt_name)[0]) + '-' + str(language) + '-'  + str(trans_lang) + '.vtt'\n",
    "trans_path = os.path.join(folder_path, trans_filename)\n",
    "trans_vtt.save(trans_path)\n",
    "print(trans_vtt[0])"
   ]
  }
 ],
 "metadata": {
  "kernelspec": {
   "display_name": ".venv",
   "language": "python",
   "name": "python3"
  },
  "language_info": {
   "codemirror_mode": {
    "name": "ipython",
    "version": 3
   },
   "file_extension": ".py",
   "mimetype": "text/x-python",
   "name": "python",
   "nbconvert_exporter": "python",
   "pygments_lexer": "ipython3",
   "version": "3.10.10"
  }
 },
 "nbformat": 4,
 "nbformat_minor": 2
}
