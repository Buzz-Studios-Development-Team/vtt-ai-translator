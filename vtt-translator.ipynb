{
 "cells": [
  {
   "cell_type": "markdown",
   "metadata": {},
   "source": [
    "# VTT AI Translator\n",
    "## About\n",
    "This is a notebook to translate VTT subtitle / caption files fluently using the OpenAI API and webvtt. It can be switched to Deepseek easily in the future for more cost-efficient processing. Made by Connor Wright for Georgia Tech's Buzz Studios Filmmaking Club. \n",
    "\n",
    "## How to Use \n",
    "* Clone the repo\n",
    "* Change the folder / file paths to the respective vtt\n",
    "* Set a language using the ISO language code\n",
    "* Put in an OpenAI API key (or ask for mine)\n",
    "* Run all the cells"
   ]
  },
  {
   "cell_type": "code",
   "execution_count": 1,
   "metadata": {},
   "outputs": [
    {
     "name": "stdout",
     "output_type": "stream",
     "text": [
      "Requirement already satisfied: openai in ./.venv/lib/python3.10/site-packages (1.79.0)\n",
      "Requirement already satisfied: anyio<5,>=3.5.0 in ./.venv/lib/python3.10/site-packages (from openai) (4.9.0)\n",
      "Requirement already satisfied: distro<2,>=1.7.0 in ./.venv/lib/python3.10/site-packages (from openai) (1.9.0)\n",
      "Requirement already satisfied: httpx<1,>=0.23.0 in ./.venv/lib/python3.10/site-packages (from openai) (0.28.1)\n",
      "Requirement already satisfied: jiter<1,>=0.4.0 in ./.venv/lib/python3.10/site-packages (from openai) (0.10.0)\n",
      "Requirement already satisfied: pydantic<3,>=1.9.0 in ./.venv/lib/python3.10/site-packages (from openai) (2.11.4)\n",
      "Requirement already satisfied: sniffio in ./.venv/lib/python3.10/site-packages (from openai) (1.3.1)\n",
      "Requirement already satisfied: tqdm>4 in ./.venv/lib/python3.10/site-packages (from openai) (4.67.1)\n",
      "Requirement already satisfied: typing-extensions<5,>=4.11 in ./.venv/lib/python3.10/site-packages (from openai) (4.13.2)\n",
      "Requirement already satisfied: exceptiongroup>=1.0.2 in ./.venv/lib/python3.10/site-packages (from anyio<5,>=3.5.0->openai) (1.3.0)\n",
      "Requirement already satisfied: idna>=2.8 in ./.venv/lib/python3.10/site-packages (from anyio<5,>=3.5.0->openai) (3.10)\n",
      "Requirement already satisfied: certifi in ./.venv/lib/python3.10/site-packages (from httpx<1,>=0.23.0->openai) (2025.4.26)\n",
      "Requirement already satisfied: httpcore==1.* in ./.venv/lib/python3.10/site-packages (from httpx<1,>=0.23.0->openai) (1.0.9)\n",
      "Requirement already satisfied: h11>=0.16 in ./.venv/lib/python3.10/site-packages (from httpcore==1.*->httpx<1,>=0.23.0->openai) (0.16.0)\n",
      "Requirement already satisfied: annotated-types>=0.6.0 in ./.venv/lib/python3.10/site-packages (from pydantic<3,>=1.9.0->openai) (0.7.0)\n",
      "Requirement already satisfied: pydantic-core==2.33.2 in ./.venv/lib/python3.10/site-packages (from pydantic<3,>=1.9.0->openai) (2.33.2)\n",
      "Requirement already satisfied: typing-inspection>=0.4.0 in ./.venv/lib/python3.10/site-packages (from pydantic<3,>=1.9.0->openai) (0.4.0)\n",
      "Note: you may need to restart the kernel to use updated packages.\n",
      "Requirement already satisfied: webvtt-py in ./.venv/lib/python3.10/site-packages (0.5.1)\n",
      "Note: you may need to restart the kernel to use updated packages.\n"
     ]
    }
   ],
   "source": [
    "### pip installations\n",
    "%pip install openai\n",
    "%pip install webvtt-py"
   ]
  },
  {
   "cell_type": "code",
   "execution_count": 2,
   "metadata": {},
   "outputs": [],
   "source": [
    "### Package imports\n",
    "from openai import OpenAI\n",
    "import os\n",
    "import webvtt\n",
    "import copy"
   ]
  },
  {
   "cell_type": "code",
   "execution_count": null,
   "metadata": {},
   "outputs": [],
   "source": [
    "### Setup variables\n",
    "## Set file paths / language output \n",
    "folder_path = \"/Users/connorwright/Downloads/GT.CS.CodeFiles/BuzzStudios/Assets/Subtitles/\"\n",
    "vtt_name = \"antr-English.vtt\"\n",
    "trans_lang = \"es\"\n",
    "language = \"Spanish\"\n",
    "\n",
    "## Set API Key \n",
    "api_key = \"\"\n",
    "\n",
    "vtt_path = os.path.join(folder_path, vtt_name)"
   ]
  },
  {
   "cell_type": "code",
   "execution_count": 61,
   "metadata": {},
   "outputs": [
    {
     "name": "stdout",
     "output_type": "stream",
     "text": [
      "[Aaron] Sure you're not drinking ~ that juice tonight, Devin?\n",
      "00:01:37.708 00:01:39.000 [Devin] That was a one-time thing.\n",
      "00:01:39.000 00:01:40.708 [Devin] Graham, you want any?\n",
      "[”Jazz Opener/Graham’s Theme” by Joshua Ancrademption] | [Aaron] Sure you're not drinking ~ that juice tonight, Devin? | [Devin] That was a one-time thing. | [Devin] Graham, you want any? | [Graham] Good, but thanks. | So, what's your take on ~ the project, Graham? | Man, I don’t know. | I just don't get why they expect us to ~ implement a full datapath in three weeks. | Me neither. | I'm just trying to keep my grade! | Please, keep that project out of here tonight. | I have no clue what a datapath is, | and honestly, I’m better off not knowing. | [Aaron] Fair enough. | How’s your weekend been, anyway? | I mean, it could’ve been worse. | I spent the week studying for that thermo ~ exam and practicing my batting. | But speaking of, I’d better ~ see you all at the game Friday. | My team has worked our ass off to make ~ the playoffs, and I can really use the support. | So please come along. | Oh yeah! Of course we will! | [Graham] Yeah. | Hey, there's this festival happening this ~ weekend on the east side of campus. | If you guys want, we can-- ~ [Devin] Can’t. Sorry. I have a lot on my plate | after the game to catch up on, so | can’t make it. | Okay! | Yeah, sure. | Aaron, what about you? | This weekend? | I got some things I got to take care of, ~ but you have fun though! | Okay. | Yeah, sure. So I can. | Sorry, Graham. | Maybe next time. | [deflated saxophone] | Hey. | Any luck so far? | I think I'm getting somewhere, | but I’ve still gotta test it. | So, basically | nowhere then. | You know, | I wish I had something to look ~ forward to after finishing this. | School is starting to ~ feel like all that I do. | Yeah, I feel you on that. | You going to Devin's game tonight? | Yeah, I suppose. | I don't really know what the ~ big deal is about it, though, | I mean, don't they play like, half ~ the nights of the week anyway? | I mean, you know how much the ~ playoffs mean to him, right? | The team hasn’t made the playoffs ~ in the last what, couple years? | So... the game’s really important to him. | Dude, you're making me ~ sound like a bad person. | Look, I just don't really get ~ the appeal of it, okay? | I mean, that's just me, though. | I’ll I’m saying is, | is, he's worked really hard for this. | I know he'd love it ~ if you were there to support him. | Of course. | Well, | I gotta get going. | I’ve got another class to get to, and | I have missed enough ~ lectures for a semester. | You’re gonna keep working on the project? | Yeah, yeah, I'll keep working at it. | Hey, thanks Graham. | Sure. | Hey, I'll be seeing you later, then, yeah? | Yeah, sure. | Oh, let me move my stuff. | Oh, no. Don't worry, you're fine! | Sorry, I can be a bit of a mess sometimes. | What's your name? | It’s Graham. | Yours? | Polly. | [Graham] Nice to meet-- ~ [Polly] Nice to meet-- | [Graham] ...meet you. ~ [Polly] It’s nice to meet you. | You know, it's funny how our ~ names kind of go together. | Yeah? | Yeah, how so? | Actually, it's kind of silly. | I'm sure it's better than anything ~ I could come up with. | Okay, well, I couldn't help but think | how both of our names ~ have something to do with a cracker. | Like, your name is kind of ~ like Graham cracker. | [Polly] And my name is-- ~ [Graham] Like the parrot thing. | Yeah! Like the parrot thing! | Hey, when’s that game start, Devin? | [Aaron] Devin! ~ [Devin] Yeah? | When’s the game start? | I mean, I’ll probably be heading out ~ in what, a couple minutes | just because a couple of the other ~ guys are grabbing lunch beforehand. | But, I'll probably say show up around, ~ like, 4:30, just to get some good seats. | Awesome. | Graham? | You’re still coming? | Yeah, I'll be there. | You sure you're not going to hang out ~ with that girl all evening? | Oh, Graham, you got a girl now? | Yeah. You know someone named Polly? | I don't think so. | Okay, so we met at study yesterday. | We actually got along really well. | We're going to meet up for lunch here soon | [Graham] and then we’re probably-- ~ [Devin] And then you’re gonna come ~ to the game tonight. Right? | Yeah, yeah, ~ I'm going to come to your game. | Don't worry about it. | Okay. Thanks a ton, Graham. | Oh, by the way, I did set aside ~ time for Saturday night, | so we should be able to have ~ our usual dinner again. | You should bring... | ...it’s Polly, right, Graham? | Yeah. Polly. | Yeah, bring her along, | cause I’m kinda curious to see ~ what she sees in you. | So then we were really in trouble ~ because the police officer | was at the only exit calling out for us. | Wait, so you saw that view ~ from the top of the building? | Yeah. Yeah, it was incredible. | You’ve got to see it sometime. | It’s great, have you seen it yet? | I have not heard of it, what’s it about? | Okay, so it's about this guy | who travels the world while going on ~ adventures all over the place, | while building ~ his career at the same time. | Look, do you see that bird? | And there's actually something | I was going to show you in my journal. | Wait, wait! | Honestly, it's the kind of thing ~ I'd love to do myself someday. | Hey, have you heard from Graham? | He's supposed to be cooking tonight, ~ but he hasn't answered any of my calls. | Haven't. | [Aaron] Maybe he'll be here soon. | Of course. | Okay. | What's up, everyone? | Hey, guys! | Sorry we're late. Got a bit sidetracked. | This is Polly. | Polly, this is Aaron by the table ~ and Devin by the counter. | Hi! | [Aaron] It's nice to meet you, Polly. | We're basically ready ~ if you guys want to take a seat. | Cool. | Yeah, come on. | [Graham] Have a seat. | [Polly] Thank you. | I thought you were cooking something, Graham. | I, I couldn't really get around to it. | Well, then I guess I just have ~ to rate your cooking, Devin. | This is good! My compliments to the chef. | Why thank you. Polly. | You know, seasonings mostly hold it together, ~ but, do you get around to any cooking much? | Not as much as I’d like to. | A lot of my time gets taken ~ up by the drama club, actually. | Oh! Polly, I didn't know you ~ were part of drama club. | Really? | I talk about it all the time. | I'm vice president, actually. | So, what kinds of things ~ do you get around to, Devin? | Well, I'm no vice president or anything, | but I actually play for the school's ~ baseball team. | Did you happen to see the game yesterday? | Oh, no. | I didn't know there was a game yesterday. | [Aaron] Oh, they were great. | You know, when the coach ~ actually gives them a break, | we actually host some of ~ the parties over here. | They come over, hang out. | Just crash for a few hours. | That sounds like fun. | I mean, surely Graham told you about it. | Right? | Yeah. | I didn't go to your game, Devin. | Course you didn’t, Graham. | Cause when are you ever there for anyone? | Huh? | [Aaron] Maybe now's not the time. | No, no, no, no, no. ~ Maybe it is, Aaron. | Come on, Graham. | Did you not even ask Polly over here | what she does in her free time? | Huh? | Cause when was the last time ~ that you cared for someone | other than yourself? | Huh? | Excuse me. | [Devin] Sorry, Polly. | I didn't mean to bring you into this. | [Door slams] | [deflated saxophone] | [Aaron] Hey! | Thought I might find you out here. | You shouldn't be here. | Of course I should be. | I don't get it, Aaron. | Literally nothing in my life ~ ever works out. | What do you mean? | I mean, I try to make plans ~ and everyone's busy. | I try to meet somebody new, and everybody ~ else just gets along better with them. | Literally nothing ever works out for me. | Don't talk about yourself ~ like that, Graham. | Come on. | You and I both know how stressful ~ everything's been lately for us. | I mean, hell, ~ we haven't even finished that project yet. | Oh, man. | You heard what Devin said. | He probably just hates me. | Besides, he was trying to totally ~ embarrass me in front of Polly, anyway. | Look, I can promise you | that Devin does not hate you, okay? | I mean, if you had a little bit better ~ communication with everybody, | things might have not played out ~ like they did tonight. | Graham, ~ can I just be totally honest with you? | And you’ve gotta promise to hear me ~ all the way through, okay? | I'm not going to have you ~ saying that I hate you, too. | Fine. | [Aaron] Okay. | [Graham] I'm listening. | Graham, I... | I just think sometimes you | you don't consider ~ the wants of the people around you. | Okay? You... | You have this ambition to go out ~ and do things that are life | changing and important, ~ and that's great. But, | I mean, it makes everything else ~ seem mundane sometimes. | I mean, just, just think about it, man. | We set time aside to have dinner together ~ every week. | You don't think about those moments, | do you? | Take ‘em for granted. | And I mean, ~ if you can't appreciate those moments, | why would someone want to risk ~ coming out of their comfort zone | to do something with you? | I, uh... | ...never... | I never thought about it like that before. | Am I a bad person, Aaron? | What? | No, of course not. | You’re not a bad person. | I mean, hey, without you, you know, ~ I wouldn't have done as much to | come out of my comfort zone. | I just think sometimes you, you know, ~ you forget that life. | it’s not... | it's not just about the high moments. | Hey, let's go for a walk. | Yeah. | Yeah? | Yeah, sure. | You always seem so content ~ with things, Aaron. | How do you balance it all? | What are you talking about? | I mean, every time I see you, ~ your classwork is under control, | your projects are caught up, and you still ~ have time for things like Devin's game. | I don't know where you heard ~ that from, but | I feel like ~ I barely got any time to myself. | No way that’s true. | I mean, your life is so full. | How do you pull it all off? | I got an idea. | What do you think of the view? | It's nice. | [Aaron] No, you don't see it. | See what? | I mean? | Just look. | It's beautiful, | but everyone takes it for granted. | I feel like you do the same. | Well, if that's my problem, | how do I fix myself? | Everything you need ~ is already right in front of you. | All you have to do is | notice it. | [”Now She Hates Me” by Michael Mitchell] | I’m gonna build a box. | Or, you don’t build a box... | What should I do? | Build a window! ~ [Devin] How do you build a window? | Hold X! | Look, do you see that bird? | That's incredible. | I never see them around here. | Oh. That's crazy. | You know, they can fly like... | [”Groove for Sparta” by Bill Nichols and Michael Mitchell] | And my name is kind of-- | Like the parrot thing. | Yeah, | [Polly] Like the parrot thing! ~ [Graham] Like the parrot thing. ~ Do you have a parrot? | Oh, let’s go! | No, I’ve wanted one but... | Yeah? | They like, live forever, though, ~ did you know that? | They do, you have to put them in your will. | Original. | Someone's gotta be. | Bro! | You can start winning games. | Made it into the playoffs. | [Devin] Yeah, we did. Six years. ~ [Graham] By the skin of your teeth. | I got right, I got right, I got right! | Captioning by Ethan Ollins\n"
     ]
    }
   ],
   "source": [
    "### Turn original captions into single string for GPT input \n",
    "captions_list = []\n",
    "captions = []\n",
    "captions_2 = []\n",
    "\n",
    "curr_chars = 0\n",
    "max_tokens = 32000 # 4o-mini limit is 16000 tokens. 4 chars per token. Divide by 2 for safety\n",
    "\n",
    "vtt = webvtt.read(vtt_path)\n",
    "\n",
    "#print (vtt)\n",
    "print (vtt[1].text.replace(\"\\n\", \" ~ \"))\n",
    "print (vtt[2])\n",
    "print (vtt[3])\n",
    "\n",
    "for caption in webvtt.read(vtt_path):\n",
    "    #print(caption.start)  # start timestamp in text format\n",
    "    #print(caption.end)  # end timestamp in text format\n",
    "    #print(caption.text)  # caption text\n",
    "    #print(caption.voice)  # voice span if present\n",
    "    '''\n",
    "    curr_chars += len(caption.text)\n",
    "    curr_tokens = curr_chars / 4\n",
    "    \n",
    "    captions.append(caption.text)\n",
    "    \n",
    "    if (curr_tokens > max_tokens):\n",
    "        captions_list.append(copy.deepcopy(captions))\n",
    "        captions.clear()\n",
    "        curr_chars = 0\n",
    "    '''\n",
    "    \n",
    "    #if caption.text.strip():  # avoid blank lines\n",
    "    #caption_text = caption.text.strip()\n",
    "    #if \"\\n\" in caption.text:\n",
    "        #print(caption.text) \n",
    "    '''\n",
    "    caption.text = caption.text.replace(\"\\n\", \" ~ \")\n",
    "    caption_text = caption.text\n",
    "\n",
    "    curr_chars += len(caption_text)\n",
    "    curr_tokens = curr_chars / 4\n",
    "    captions.append(caption_text)\n",
    "\n",
    "    if curr_tokens > max_tokens:\n",
    "        captions_list.append(copy.deepcopy(captions))\n",
    "        captions = []\n",
    "        curr_chars = 0\n",
    "    '''\n",
    "    caption.text = caption.text.replace(\"\\n\", \" ~ \")\n",
    "    caption_text = caption.text\n",
    "    captions_2.append(caption_text)\n",
    "    \n",
    "\n",
    "\n",
    "if captions:\n",
    "    captions_list.append(copy.deepcopy(captions))\n",
    "\n",
    "captions_list = [\n",
    "    \"\\n\".join(c) if isinstance(c, list) else str(c)\n",
    "    for c in captions_list\n",
    "]\n",
    "\n",
    "#print(captions_list[0])\n",
    "\n",
    "captions_2 = \" | \".join(captions_2) if isinstance(captions_2, list) else str(captions_2)\n",
    "\n",
    "\n",
    "captions = captions_2\n",
    "print(captions_2)\n",
    "\n"
   ]
  },
  {
   "cell_type": "code",
   "execution_count": 62,
   "metadata": {},
   "outputs": [
    {
     "name": "stdout",
     "output_type": "stream",
     "text": [
      "ChatCompletion(id='chatcmpl-BZQbypcPFKQY0gSSQ05iPw2VU5ev5', choices=[Choice(finish_reason='stop', index=0, logprobs=None, message=ChatCompletionMessage(content='[\"Jazz Opener/Tema de Graham\" de Joshua Ancrademption] | [Aaron] ¿Seguramente no estás bebiendo ~ ese jugo esta noche, Devin? | [Devin] Eso fue algo que pasó una vez. | [Devin] Graham, ¿quieres algo? | [Graham] Estoy bien, pero gracias. | Entonces, ¿cuál es tu opinión sobre ~ el proyecto, Graham? | Hombre, no lo sé. | Simplemente no entiendo por qué esperan que ~ implementemos un datapath completo en tres semanas. | Yo tampoco. | Solo estoy tratando de mantener mi nota. | Por favor, mantén ese proyecto fuera de aquí esta noche. | No tengo ni idea de lo que es un datapath, | y honestamente, es mejor que no lo sepa. | [Aaron] Bien. | ¿Cómo ha sido tu fin de semana, de todos modos? | Quiero decir, podría haber sido peor. | Pasé la semana estudiando para ese examen de termo ~ y practicando mi bateo. | Pero hablando de eso, mejor ~ los veo a todos en el juego del viernes. | Mi equipo ha trabajado muy duro para llegar a ~ los playoffs, y realmente puedo usar el apoyo. | Así que por favor vengan. | ¡Oh, sí! ¡Por supuesto que iremos! | [Graham] Sí. | Oye, hay un festival que sucede este ~ fin de semana en el lado este del campus. | Si quieren, podemos... ~ [Devin] No puedo. Lo siento. Tengo mucho que hacer | después del juego, así que | no puedo ir. | ¡Está bien! | Sí, claro. | Aaron, ¿qué hay de ti? | ¿Este fin de semana? | Tengo algunas cosas que debo atender, ~ ¡pero diviértete! | Está bien. | Sí, claro. Así que puedo. | Lo siento, Graham. | Tal vez la próxima vez. | [saxo desafinado] | Oye. | ¿Alguna suerte hasta ahora? | Creo que estoy llegando a algún lugar, | pero aún tengo que probarlo. | Así que, básicamente | en ningún lado entonces. | Sabes, | desearía tener algo que esperar ~ después de terminar esto. | La escuela está empezando a ~ sentirse como todo lo que hago. | Sí, te entiendo en eso. | ¿Vas al juego de Devin esta noche? | Sí, supongo. | Pero realmente no sé cuál es ~ el gran alboroto al respecto, | es decir, ¿no juegan como la mitad ~ de las noches de la semana de todos modos? | Quiero decir, sabes cuánto ~ significan para él los playoffs, ¿verdad? | El equipo no ha llegado a los playoffs ~ en los últimos, ¿qué, un par de años? | Entonces... el juego es realmente importante para él. | Amigo, me estás haciendo ~ parecer una mala persona. | Mira, simplemente no entiendo ~ el atractivo de eso, ¿de acuerdo? | Quiero decir, así soy yo. | Lo único que digo es, | es que ha trabajado muy duro para esto. | Sé que le encantaría ~ que estuvieras allí para apoyarlo. | Por supuesto. | Bueno, | tengo que irme. | Tengo otra clase a la cual asistir, y | me he perdido suficientes ~ clases durante un semestre. | ¿Vas a seguir trabajando en el proyecto? | Sí, sí, seguiré trabajando en ello. | Oye, gracias, Graham. | Claro. | Oye, nos vemos más tarde, ¿sí? | Sí, claro. | Oh, déjame mover mis cosas. | Oh, no. ¡No te preocupes, estás bien! | Lo siento, a veces puedo ser un poco desordenado. | ¿Cuál es tu nombre? | Soy Graham. | ¿Y el tuyo? | Polly. | [Graham] Encantado de conocer-- ~ [Polly] Encantada de conocer-- | [Graham] ...conocerte. ~ [Polly] Es un placer conocerte. | Sabes, es gracioso cómo nuestros ~ nombres encajan juntos. | ¿Sí? | Sí, ¿cómo así? | De hecho, es un poco tonto. | Estoy seguro de que es mejor que cualquier ~ cosa que se me ocurra. | Está bien, bueno, no pude evitar pensar | en cómo nuestros nombres ~ tienen algo que ver con una galleta. | Como, tu nombre es un poco ~ como galleta Graham. | [Polly] Y mi nombre es-- ~ [Graham] Como el loro. | ¡Sí! ¡Como el loro! | Oye, ¿a qué hora empieza ese juego, Devin? | [Aaron] ¡Devin! ~ [Devin] ¿Sí? | ¿A qué hora empieza el juego? | Quiero decir, probablemente estaré saliendo ~ en qué, un par de minutos | solo porque un par de los otros ~ chicos están yendo a almorzar antes. | Pero, probablemente diga que aparezcan alrededor de, ~ como, 4:30, solo para conseguir buenos asientos. | Genial. | Graham? | ¿Todavía vienes? | Sí, estaré allí. | ¿Estás seguro de que no vas a pasar el rato ~ con esa chica toda la noche? | Oh, Graham, ¿tienes una chica ahora? | Sí. ¿Conoces a alguien llamada Polly? | No creo. | Está bien, nos conocimos en estudio ayer. | De hecho, nos llevamos muy bien. | Vamos a encontrarnos para almorzar aquí pronto | [Graham] y luego probablemente-- ~ [Devin] Y luego vas a venir ~ al juego esta noche. ¿Verdad? | Sí, sí, ~ voy a venir a tu juego. | No te preocupes por eso. | Está bien. Muchas gracias, Graham. | Oh, por cierto, reservé ~ tiempo para el sábado por la noche, | así que deberíamos poder tener ~ nuestra cena habitual de nuevo. | Deberías traer... | ...es Polly, ¿verdad, Graham? | Sí. Polly. | Sí, llévala, | porque tengo curiosidad por ver ~ qué ve en ti. | Así que realmente estábamos en problemas ~ porque el oficial de policía | estaba en la única salida llamándonos. | Espera, ¿así que viste esa vista ~ desde la cima del edificio? | Sí. Sí, fue increíble. | Tienes que verlo algún día. | Es genial, ¿ya lo has visto? | No he oído de eso, ¿de qué se trata? | Está bien, así que se trata de este chico | que viaja por el mundo mientras vive ~ aventuras por todos lados, | mientras construye ~ su carrera al mismo tiempo. | Mira, ¿ves ese pájaro? | Y hay algo | que iba a mostrarte en mi diario. | Espera, espera. | Honestamente, es el tipo de cosa ~ que me encantaría hacer algún día. | Oye, ¿has oído de Graham? | Se supone que va a cocinar esta noche, ~ pero no ha respondido ninguna de mis llamadas. | No. | [Aaron] Tal vez llegue pronto. | Por supuesto. | Está bien. | ¿Qué pasa, everyone? | ¡Hola, chicos! | Lo siento, llegamos tarde. Nos desviamos un poco. | Esta es Polly. | Polly, este es Aaron en la mesa ~ y Devin en el mostrador. | ¡Hola! | [Aaron] Encantado de conocerte, Polly. | Estamos prácticamente listos ~ si quieren tomar asiento. | Genial. | Sí, vamos. | [Graham] Toma asiento. | [Polly] Gracias. | Pensé que ibas a cocinar algo, Graham. | No, no pude conseguirlo. | Bueno, supongo que solo tendré que ~ calificar tu cocina, Devin. | ¡Esto está bueno! Mis cumplidos al chef. | Gracias, Polly. | Sabes, los condimentos mantienen todo junto, ~ pero, ¿cocinas mucho? | No tanto como me gustaría. | Gran parte de mi tiempo se pasa ~ en el club de teatro, de hecho. | ¡Oh! Polly, no sabía que ~ eras parte del club de teatro. | ¿De verdad? | Hablo de eso todo el tiempo. | Soy vicepresidenta, de hecho. | Entonces, ¿qué tipos de cosas ~ haces, Devin? | Bueno, no soy vicepresidente ni nada, | pero de hecho juego en el equipo de ~ béisbol de la escuela. | ¿Viste el juego de ayer? | Oh, no. | No sabía que había un juego ayer. | [Aaron] Oh, fueron geniales. | Sabes, cuando el entrenador ~ realmente les da un descanso, | de hecho, organizamos algunas de ~ las fiestas aquí. | Ellos vienen, se divierten. | Solo se quedan por un par de horas. | Suena divertido. | Quiero decir, seguramente Graham te habló de eso. | ¿No? | Sí. | No fui a tu juego, Devin. | Por supuesto que no, Graham. | Porque, ¿cuándo has estado aquí para alguien? | ¿Eh? | [Aaron] Quizá ahora no sea el momento. | No, no, no, no, no. ~ Tal vez sí, Aaron. | Vamos, Graham. | ¿No le preguntaste a Polly aquí | qué hace en su tiempo libre? | ¿Eh? | Porque, ¿cuándo fue la última vez ~ que te preocupaste por alguien | más que por ti mismo? | ¿Eh? | Disculpa. | [Devin] Lo siento, Polly. | No quise meterte en esto. | [La puerta se cierra de golpe] | [saxo desafinado] | [Aaron] ¡Hey! | Pensé que podría encontrarte aquí. | No deberías estar aquí. | Por supuesto que debería estar. | No lo entiendo, Aaron. | Literalmente, nada en mi vida ~ funciona. | ¿Qué quieres decir? | Quiero decir, trato de hacer planes ~ y todos están ocupados. | Intento conocer a alguien nuevo y todos ~ simplemente se llevan mejor con ellos. | Literalmente, nada me funciona. | No hables de ti mismo ~ de esa manera, Graham. | Vamos. | Ambos sabemos lo estresante que ha sido ~ todo últimamente para nosotros. | Quiero decir, demonios, ~ ni siquiera hemos terminado ese proyecto. | Oh, hombre. | Oíste lo que dijo Devin. | Probablemente solo me odia. | Además, estaba tratando de ~ avergonzarme frente a Polly, de todos modos. | Mira, te prometo | que Devin no te odia, ¿de acuerdo? | Quiero decir, si tuvieras un poco mejor ~ comunicación con todos, | las cosas podrían no haber salido ~ como salieron esta noche. | Graham, ~ ¿puedo ser totalmente honesto contigo? | Y tienes que prometer que me escucharás ~ hasta el final, ¿de acuerdo? | No voy a dejar que digas que también te odio. | Está bien. | [Aaron] Está bien. | [Graham] Estoy escuchando. | Graham, yo... | Solo creo que a veces tú | no considers ~ los deseos de las personas a tu alrededor. | ¿Está bien? Tú... | Tienes esta ambición de salir ~ y hacer cosas que son vida | cambiantes e importantes, ~ y eso está genial. Pero, | quiero decir, hace que todo lo demás ~ parezca mundano a veces. | Quiero decir, solo, solo piénsalo, amigo. | Reservamos tiempo para cenar juntos ~ cada semana. | No piensas en esos momentos, | ¿verdad? | Te los tomas por sentado. | Y quiero decir, ~ si no puedes apreciar esos momentos, | ¿por qué alguien querría arriesgarse ~ a salir de su zona de confort | para hacer algo contigo? | Yo, uh... | ...nunca... | Nunca lo pensé de esa manera antes. | ¿Soy una mala persona, Aaron? | ¿Qué? | No, por supuesto que no. | No eres una mala persona. | Quiero decir, oye, sin ti, sabes, ~ no habría hecho tanto para | salir de mi zona de confort. | Simplemente creo que a veces, you know, ~ olvidas que la vida. | no es... | no es solo sobre los momentos altos. | Oye, vamos a dar un paseo. | Sí. | ¿Sí? | Sí, claro. | Siempre pareces tan contento ~ con las cosas, Aaron. | ¿Cómo lo equilibras todo? | ¿De qué estás hablando? | Quiero decir, cada vez que te veo, ~ tu trabajo de clase está bajo control, | tus proyectos están al día, y aún tienes ~ tiempo para cosas como el juego de Devin. | No sé de dónde oíste ~ eso, pero | siento que ~ apenas tengo tiempo para mí. | No puede ser verdad. | Quiero decir, tu vida es tan llena. | ¿Cómo lo logras todo? | Tengo una idea. | ¿Qué piensas de la vista? | Es bonita. | [Aaron] No, no lo ves. | ¿Ver qué? | Quiero decir. | Solo mira. | Es hermosa, | pero todos la dan por sentada. | Siento que tú haces lo mismo. | Bueno, si ese es mi problema, | ¿cómo me arreglo a mí mismo? | Todo lo que necesitas ~ ya está justo enfrente de ti. | Todo lo que tienes que hacer es | notarlo. | [\"Ahora Me Odia\" de Michael Mitchell] | Voy a construir una caja. | O, no construyes una caja... | ¿Qué debería hacer? | ¡Construye una ventana! ~ [Devin] ¿Cómo construyes una ventana? | ¡Mantén X! | Mira, ¿ves ese pájaro? | Eso es increíble. | Nunca los veo por aquí. | Oh. Eso es loco. | Sabes, pueden volar como... | [\"Groove for Sparta\" de Bill Nichols y Michael Mitchell] | Y mi nombre es un poco-- | Como el loro. | Sí, | [Polly] ¡Como el loro! ~ [Graham] Como el loro. ~ ¿Tienes un loro? | Oh, ¡vamos! | No, siempre he querido uno, pero... | ¿Sí? | Ellos, como, viven para siempre, ¿sabías eso? | Lo hacen, tienes que ponerlos en tu testamento. | Original. | Alguien tiene que serlo. | ¡Hermano! | Puedes empezar a ganar juegos. | Entramos a los playoffs. | [Devin] Sí, lo hicimos. Seis años. ~ [Graham] Por los pelos. | ¡Lo hice bien, lo hice bien, lo hice bien! | Subtitulación por Ethan Ollins', refusal=None, role='assistant', annotations=[], audio=None, function_call=None, tool_calls=None))], created=1747783474, model='gpt-4o-mini-2024-07-18', object='chat.completion', service_tier='default', system_fingerprint='fp_54eb4bd693', usage=CompletionUsage(completion_tokens=3168, prompt_tokens=3185, total_tokens=6353, completion_tokens_details=CompletionTokensDetails(accepted_prediction_tokens=0, audio_tokens=0, reasoning_tokens=0, rejected_prediction_tokens=0), prompt_tokens_details=PromptTokensDetails(audio_tokens=0, cached_tokens=0)))\n"
     ]
    }
   ],
   "source": [
    "### Setup OpenAI client and context\n",
    "#client = OpenAI(api_key=\"\", base_url=\"https://api.deepseek.com\")\n",
    "client = OpenAI(api_key=api_key)\n",
    "\n",
    "system_message = f\"\"\"You are a professional subtitle translator. \\\n",
    "            You will only receive a string transcription of a vtt file containing subtitles in English. \\\n",
    "            You will only output a {language} translation of the subtitles and bracketed actions. \\\n",
    "            Do not add anything else to your reply.\\\n",
    "            Do not merge sentences, translate each line individually. \\\n",
    "            Return the translated subtitles in the same order and length as the input. \\\n",
    "            Your steps are as follows: \\\n",
    "            1. Parse the input subtitles \\\n",
    "            2. Translate each line into {language} with language code {trans_lang}. Do not change or remove any '~' or '|' character. If there is a '~' or a '|' mid-sentence, keep it mid-sentence. \\\n",
    "            3. Alter the translated subtitles into more fluent sentences \\\n",
    "            4. Use the setResult method to output the translated subtitles as a string[].\n",
    "\"\"\"\n",
    "\n",
    "'''\n",
    "responses = []\n",
    "for captions in captions_list:\n",
    "    response = client.chat.completions.create(\n",
    "        model=\"gpt-4o-mini\",\n",
    "        messages=[\n",
    "            {\"role\": \"system\", \"content\": system_message},\n",
    "            {\"role\": \"user\", \"content\": captions}\n",
    "        ]\n",
    "    )\n",
    "    responses.append(response)\n",
    "'''\n",
    "response = client.chat.completions.create(\n",
    "    model=\"gpt-4o-mini\",\n",
    "    messages=[\n",
    "        {\"role\": \"system\", \"content\": system_message},\n",
    "        {\"role\": \"user\", \"content\": captions}\n",
    "    ]\n",
    ")\n",
    "    \n",
    "print(response)"
   ]
  },
  {
   "cell_type": "code",
   "execution_count": 63,
   "metadata": {},
   "outputs": [
    {
     "name": "stdout",
     "output_type": "stream",
     "text": [
      "['[\"Jazz Opener/Tema de Graham\" de Joshua Ancrademption]', '[Aaron] ¿Seguramente no estás bebiendo ~ ese jugo esta noche, Devin?', '[Devin] Eso fue algo que pasó una vez.', '[Devin] Graham, ¿quieres algo?', '[Graham] Estoy bien, pero gracias.', 'Entonces, ¿cuál es tu opinión sobre ~ el proyecto, Graham?', 'Hombre, no lo sé.', 'Simplemente no entiendo por qué esperan que ~ implementemos un datapath completo en tres semanas.', 'Yo tampoco.', 'Solo estoy tratando de mantener mi nota.', 'Por favor, mantén ese proyecto fuera de aquí esta noche.', 'No tengo ni idea de lo que es un datapath,', 'y honestamente, es mejor que no lo sepa.', '[Aaron] Bien.', '¿Cómo ha sido tu fin de semana, de todos modos?', 'Quiero decir, podría haber sido peor.', 'Pasé la semana estudiando para ese examen de termo ~ y practicando mi bateo.', 'Pero hablando de eso, mejor ~ los veo a todos en el juego del viernes.', 'Mi equipo ha trabajado muy duro para llegar a ~ los playoffs, y realmente puedo usar el apoyo.', 'Así que por favor vengan.', '¡Oh, sí! ¡Por supuesto que iremos!', '[Graham] Sí.', 'Oye, hay un festival que sucede este ~ fin de semana en el lado este del campus.', 'Si quieren, podemos... ~ [Devin] No puedo. Lo siento. Tengo mucho que hacer', 'después del juego, así que', 'no puedo ir.', '¡Está bien!', 'Sí, claro.', 'Aaron, ¿qué hay de ti?', '¿Este fin de semana?', 'Tengo algunas cosas que debo atender, ~ ¡pero diviértete!', 'Está bien.', 'Sí, claro. Así que puedo.', 'Lo siento, Graham.', 'Tal vez la próxima vez.', '[saxo desafinado]', 'Oye.', '¿Alguna suerte hasta ahora?', 'Creo que estoy llegando a algún lugar,', 'pero aún tengo que probarlo.', 'Así que, básicamente', 'en ningún lado entonces.', 'Sabes,', 'desearía tener algo que esperar ~ después de terminar esto.', 'La escuela está empezando a ~ sentirse como todo lo que hago.', 'Sí, te entiendo en eso.', '¿Vas al juego de Devin esta noche?', 'Sí, supongo.', 'Pero realmente no sé cuál es ~ el gran alboroto al respecto,', 'es decir, ¿no juegan como la mitad ~ de las noches de la semana de todos modos?', 'Quiero decir, sabes cuánto ~ significan para él los playoffs, ¿verdad?', 'El equipo no ha llegado a los playoffs ~ en los últimos, ¿qué, un par de años?', 'Entonces... el juego es realmente importante para él.', 'Amigo, me estás haciendo ~ parecer una mala persona.', 'Mira, simplemente no entiendo ~ el atractivo de eso, ¿de acuerdo?', 'Quiero decir, así soy yo.', 'Lo único que digo es,', 'es que ha trabajado muy duro para esto.', 'Sé que le encantaría ~ que estuvieras allí para apoyarlo.', 'Por supuesto.', 'Bueno,', 'tengo que irme.', 'Tengo otra clase a la cual asistir, y', 'me he perdido suficientes ~ clases durante un semestre.', '¿Vas a seguir trabajando en el proyecto?', 'Sí, sí, seguiré trabajando en ello.', 'Oye, gracias, Graham.', 'Claro.', 'Oye, nos vemos más tarde, ¿sí?', 'Sí, claro.', 'Oh, déjame mover mis cosas.', 'Oh, no. ¡No te preocupes, estás bien!', 'Lo siento, a veces puedo ser un poco desordenado.', '¿Cuál es tu nombre?', 'Soy Graham.', '¿Y el tuyo?', 'Polly.', '[Graham] Encantado de conocer-- ~ [Polly] Encantada de conocer--', '[Graham] ...conocerte. ~ [Polly] Es un placer conocerte.', 'Sabes, es gracioso cómo nuestros ~ nombres encajan juntos.', '¿Sí?', 'Sí, ¿cómo así?', 'De hecho, es un poco tonto.', 'Estoy seguro de que es mejor que cualquier ~ cosa que se me ocurra.', 'Está bien, bueno, no pude evitar pensar', 'en cómo nuestros nombres ~ tienen algo que ver con una galleta.', 'Como, tu nombre es un poco ~ como galleta Graham.', '[Polly] Y mi nombre es-- ~ [Graham] Como el loro.', '¡Sí! ¡Como el loro!', 'Oye, ¿a qué hora empieza ese juego, Devin?', '[Aaron] ¡Devin! ~ [Devin] ¿Sí?', '¿A qué hora empieza el juego?', 'Quiero decir, probablemente estaré saliendo ~ en qué, un par de minutos', 'solo porque un par de los otros ~ chicos están yendo a almorzar antes.', 'Pero, probablemente diga que aparezcan alrededor de, ~ como, 4:30, solo para conseguir buenos asientos.', 'Genial.', 'Graham?', '¿Todavía vienes?', 'Sí, estaré allí.', '¿Estás seguro de que no vas a pasar el rato ~ con esa chica toda la noche?', 'Oh, Graham, ¿tienes una chica ahora?', 'Sí. ¿Conoces a alguien llamada Polly?', 'No creo.', 'Está bien, nos conocimos en estudio ayer.', 'De hecho, nos llevamos muy bien.', 'Vamos a encontrarnos para almorzar aquí pronto', '[Graham] y luego probablemente-- ~ [Devin] Y luego vas a venir ~ al juego esta noche. ¿Verdad?', 'Sí, sí, ~ voy a venir a tu juego.', 'No te preocupes por eso.', 'Está bien. Muchas gracias, Graham.', 'Oh, por cierto, reservé ~ tiempo para el sábado por la noche,', 'así que deberíamos poder tener ~ nuestra cena habitual de nuevo.', 'Deberías traer...', '...es Polly, ¿verdad, Graham?', 'Sí. Polly.', 'Sí, llévala,', 'porque tengo curiosidad por ver ~ qué ve en ti.', 'Así que realmente estábamos en problemas ~ porque el oficial de policía', 'estaba en la única salida llamándonos.', 'Espera, ¿así que viste esa vista ~ desde la cima del edificio?', 'Sí. Sí, fue increíble.', 'Tienes que verlo algún día.', 'Es genial, ¿ya lo has visto?', 'No he oído de eso, ¿de qué se trata?', 'Está bien, así que se trata de este chico', 'que viaja por el mundo mientras vive ~ aventuras por todos lados,', 'mientras construye ~ su carrera al mismo tiempo.', 'Mira, ¿ves ese pájaro?', 'Y hay algo', 'que iba a mostrarte en mi diario.', 'Espera, espera.', 'Honestamente, es el tipo de cosa ~ que me encantaría hacer algún día.', 'Oye, ¿has oído de Graham?', 'Se supone que va a cocinar esta noche, ~ pero no ha respondido ninguna de mis llamadas.', 'No.', '[Aaron] Tal vez llegue pronto.', 'Por supuesto.', 'Está bien.', '¿Qué pasa, everyone?', '¡Hola, chicos!', 'Lo siento, llegamos tarde. Nos desviamos un poco.', 'Esta es Polly.', 'Polly, este es Aaron en la mesa ~ y Devin en el mostrador.', '¡Hola!', '[Aaron] Encantado de conocerte, Polly.', 'Estamos prácticamente listos ~ si quieren tomar asiento.', 'Genial.', 'Sí, vamos.', '[Graham] Toma asiento.', '[Polly] Gracias.', 'Pensé que ibas a cocinar algo, Graham.', 'No, no pude conseguirlo.', 'Bueno, supongo que solo tendré que ~ calificar tu cocina, Devin.', '¡Esto está bueno! Mis cumplidos al chef.', 'Gracias, Polly.', 'Sabes, los condimentos mantienen todo junto, ~ pero, ¿cocinas mucho?', 'No tanto como me gustaría.', 'Gran parte de mi tiempo se pasa ~ en el club de teatro, de hecho.', '¡Oh! Polly, no sabía que ~ eras parte del club de teatro.', '¿De verdad?', 'Hablo de eso todo el tiempo.', 'Soy vicepresidenta, de hecho.', 'Entonces, ¿qué tipos de cosas ~ haces, Devin?', 'Bueno, no soy vicepresidente ni nada,', 'pero de hecho juego en el equipo de ~ béisbol de la escuela.', '¿Viste el juego de ayer?', 'Oh, no.', 'No sabía que había un juego ayer.', '[Aaron] Oh, fueron geniales.', 'Sabes, cuando el entrenador ~ realmente les da un descanso,', 'de hecho, organizamos algunas de ~ las fiestas aquí.', 'Ellos vienen, se divierten.', 'Solo se quedan por un par de horas.', 'Suena divertido.', 'Quiero decir, seguramente Graham te habló de eso.', '¿No?', 'Sí.', 'No fui a tu juego, Devin.', 'Por supuesto que no, Graham.', 'Porque, ¿cuándo has estado aquí para alguien?', '¿Eh?', '[Aaron] Quizá ahora no sea el momento.', 'No, no, no, no, no. ~ Tal vez sí, Aaron.', 'Vamos, Graham.', '¿No le preguntaste a Polly aquí', 'qué hace en su tiempo libre?', '¿Eh?', 'Porque, ¿cuándo fue la última vez ~ que te preocupaste por alguien', 'más que por ti mismo?', '¿Eh?', 'Disculpa.', '[Devin] Lo siento, Polly.', 'No quise meterte en esto.', '[La puerta se cierra de golpe]', '[saxo desafinado]', '[Aaron] ¡Hey!', 'Pensé que podría encontrarte aquí.', 'No deberías estar aquí.', 'Por supuesto que debería estar.', 'No lo entiendo, Aaron.', 'Literalmente, nada en mi vida ~ funciona.', '¿Qué quieres decir?', 'Quiero decir, trato de hacer planes ~ y todos están ocupados.', 'Intento conocer a alguien nuevo y todos ~ simplemente se llevan mejor con ellos.', 'Literalmente, nada me funciona.', 'No hables de ti mismo ~ de esa manera, Graham.', 'Vamos.', 'Ambos sabemos lo estresante que ha sido ~ todo últimamente para nosotros.', 'Quiero decir, demonios, ~ ni siquiera hemos terminado ese proyecto.', 'Oh, hombre.', 'Oíste lo que dijo Devin.', 'Probablemente solo me odia.', 'Además, estaba tratando de ~ avergonzarme frente a Polly, de todos modos.', 'Mira, te prometo', 'que Devin no te odia, ¿de acuerdo?', 'Quiero decir, si tuvieras un poco mejor ~ comunicación con todos,', 'las cosas podrían no haber salido ~ como salieron esta noche.', 'Graham, ~ ¿puedo ser totalmente honesto contigo?', 'Y tienes que prometer que me escucharás ~ hasta el final, ¿de acuerdo?', 'No voy a dejar que digas que también te odio.', 'Está bien.', '[Aaron] Está bien.', '[Graham] Estoy escuchando.', 'Graham, yo...', 'Solo creo que a veces tú', 'no considers ~ los deseos de las personas a tu alrededor.', '¿Está bien? Tú...', 'Tienes esta ambición de salir ~ y hacer cosas que son vida', 'cambiantes e importantes, ~ y eso está genial. Pero,', 'quiero decir, hace que todo lo demás ~ parezca mundano a veces.', 'Quiero decir, solo, solo piénsalo, amigo.', 'Reservamos tiempo para cenar juntos ~ cada semana.', 'No piensas en esos momentos,', '¿verdad?', 'Te los tomas por sentado.', 'Y quiero decir, ~ si no puedes apreciar esos momentos,', '¿por qué alguien querría arriesgarse ~ a salir de su zona de confort', 'para hacer algo contigo?', 'Yo, uh...', '...nunca...', 'Nunca lo pensé de esa manera antes.', '¿Soy una mala persona, Aaron?', '¿Qué?', 'No, por supuesto que no.', 'No eres una mala persona.', 'Quiero decir, oye, sin ti, sabes, ~ no habría hecho tanto para', 'salir de mi zona de confort.', 'Simplemente creo que a veces, you know, ~ olvidas que la vida.', 'no es...', 'no es solo sobre los momentos altos.', 'Oye, vamos a dar un paseo.', 'Sí.', '¿Sí?', 'Sí, claro.', 'Siempre pareces tan contento ~ con las cosas, Aaron.', '¿Cómo lo equilibras todo?', '¿De qué estás hablando?', 'Quiero decir, cada vez que te veo, ~ tu trabajo de clase está bajo control,', 'tus proyectos están al día, y aún tienes ~ tiempo para cosas como el juego de Devin.', 'No sé de dónde oíste ~ eso, pero', 'siento que ~ apenas tengo tiempo para mí.', 'No puede ser verdad.', 'Quiero decir, tu vida es tan llena.', '¿Cómo lo logras todo?', 'Tengo una idea.', '¿Qué piensas de la vista?', 'Es bonita.', '[Aaron] No, no lo ves.', '¿Ver qué?', 'Quiero decir.', 'Solo mira.', 'Es hermosa,', 'pero todos la dan por sentada.', 'Siento que tú haces lo mismo.', 'Bueno, si ese es mi problema,', '¿cómo me arreglo a mí mismo?', 'Todo lo que necesitas ~ ya está justo enfrente de ti.', 'Todo lo que tienes que hacer es', 'notarlo.', '[\"Ahora Me Odia\" de Michael Mitchell]', 'Voy a construir una caja.', 'O, no construyes una caja...', '¿Qué debería hacer?', '¡Construye una ventana! ~ [Devin] ¿Cómo construyes una ventana?', '¡Mantén X!', 'Mira, ¿ves ese pájaro?', 'Eso es increíble.', 'Nunca los veo por aquí.', 'Oh. Eso es loco.', 'Sabes, pueden volar como...', '[\"Groove for Sparta\" de Bill Nichols y Michael Mitchell]', 'Y mi nombre es un poco--', 'Como el loro.', 'Sí,', '[Polly] ¡Como el loro! ~ [Graham] Como el loro. ~ ¿Tienes un loro?', 'Oh, ¡vamos!', 'No, siempre he querido uno, pero...', '¿Sí?', 'Ellos, como, viven para siempre, ¿sabías eso?', 'Lo hacen, tienes que ponerlos en tu testamento.', 'Original.', 'Alguien tiene que serlo.', '¡Hermano!', 'Puedes empezar a ganar juegos.', 'Entramos a los playoffs.', '[Devin] Sí, lo hicimos. Seis años. ~ [Graham] Por los pelos.', '¡Lo hice bien, lo hice bien, lo hice bien!', 'Subtitulación por Ethan Ollins']\n"
     ]
    }
   ],
   "source": [
    "### Save translated captions as new vtt file \n",
    "\n",
    "## Get GPT response as string, split into list\n",
    "'''\n",
    "full_str = ''\n",
    "for response in responses:\n",
    "    trans_str = str(response.choices[0].message.content)\n",
    "    full_str += trans_str\n",
    "\n",
    "trans_list = full_str.split(\"\\n\")\n",
    "print(trans_list)\n",
    "\n",
    "## Edit caption files to match translations, accounting for multi-line texts \n",
    "trans_vtt = webvtt.read(vtt_path)\n",
    "line_index = 0\n",
    "\n",
    "for i, caption in enumerate(trans_vtt):\n",
    "    #num_lines = len(caption.text.split(\"\\n\"))\n",
    "    #trans_lines = trans_list[line_index:line_index+num_lines]\n",
    "    caption.text = trans_list[i].replace(\" ~ \", \"\\n\")\n",
    "    #caption.text = \"\\n\".join(trans_lines)\n",
    "    #line_index += num_lines\n",
    "'''\n",
    "'''\n",
    "for i, caption in enumerate(trans_vtt):\n",
    "    caption.text = trans_list[i] if i < len(trans_list) else \"[Missing translation]\"\n",
    "'''\n",
    "'''\n",
    "## Save as new file w/ specified language name \n",
    "trans_filename = str(os.path.splitext(vtt_name)[0]) + '-' + str(trans_lang) + '.vtt'\n",
    "trans_path = os.path.join(folder_path, trans_filename)\n",
    "trans_vtt.save(trans_path)\n",
    "'''\n",
    "\n",
    "### Save translated captions as new vtt file \n",
    "\n",
    "## Get GPT response as string, split into list\n",
    "trans_str = str(response.choices[0].message.content)\n",
    "trans_list = trans_str.split(\" | \")\n",
    "print(trans_list)\n",
    "\n",
    "## Edit caption files to match translations, accounting for multi-line texts \n",
    "trans_vtt = webvtt.read(vtt_path)\n",
    "line_index = 0\n",
    "for i, caption in enumerate(trans_vtt):\n",
    "    num_lines = len(caption.text.split(\" ~ \"))\n",
    "    trans_lines = trans_list[line_index:line_index+num_lines]\n",
    "    caption.text = \"\\n\".join(trans_lines).replace(\" ~ \", \"\\n\")\n",
    "    line_index += num_lines\n",
    "    #caption.text = trans_list[i].replace(\" ~ \", \"\\n\")\n",
    "\n",
    "## Save as new file w/ specified language name \n",
    "trans_filename = str(os.path.splitext(vtt_name)[0]) + '-' + str(trans_lang) + '.vtt'\n",
    "trans_path = os.path.join(folder_path, trans_filename)\n",
    "trans_vtt.save(trans_path)"
   ]
  }
 ],
 "metadata": {
  "kernelspec": {
   "display_name": ".venv",
   "language": "python",
   "name": "python3"
  },
  "language_info": {
   "codemirror_mode": {
    "name": "ipython",
    "version": 3
   },
   "file_extension": ".py",
   "mimetype": "text/x-python",
   "name": "python",
   "nbconvert_exporter": "python",
   "pygments_lexer": "ipython3",
   "version": "3.10.10"
  }
 },
 "nbformat": 4,
 "nbformat_minor": 2
}
