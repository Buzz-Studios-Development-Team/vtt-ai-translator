{
 "cells": [
  {
   "cell_type": "markdown",
   "metadata": {},
   "source": [
    "This is a notebook to translate VTT files fluently using the OpenAI API. Can be switched to Deepseek easily for more cost-efficient processing. \n",
    "\n",
    "All you have to do is clone the repo, change the folder / file paths to the respective vtt, set a language, and put in an OpenAI API key."
   ]
  },
  {
   "cell_type": "code",
   "execution_count": 9,
   "metadata": {},
   "outputs": [
    {
     "name": "stdout",
     "output_type": "stream",
     "text": [
      "Requirement already satisfied: openai in /Users/connorwright/.pyenv/versions/3.10.10/lib/python3.10/site-packages (1.61.0)\n",
      "Requirement already satisfied: httpx<1,>=0.23.0 in /Users/connorwright/.pyenv/versions/3.10.10/lib/python3.10/site-packages (from openai) (0.28.1)\n",
      "Requirement already satisfied: anyio<5,>=3.5.0 in /Users/connorwright/.pyenv/versions/3.10.10/lib/python3.10/site-packages (from openai) (4.8.0)\n",
      "Requirement already satisfied: typing-extensions<5,>=4.11 in /Users/connorwright/.pyenv/versions/3.10.10/lib/python3.10/site-packages (from openai) (4.12.2)\n",
      "Requirement already satisfied: tqdm>4 in /Users/connorwright/.pyenv/versions/3.10.10/lib/python3.10/site-packages (from openai) (4.67.1)\n",
      "Requirement already satisfied: distro<2,>=1.7.0 in /Users/connorwright/.pyenv/versions/3.10.10/lib/python3.10/site-packages (from openai) (1.9.0)\n",
      "Requirement already satisfied: sniffio in /Users/connorwright/.pyenv/versions/3.10.10/lib/python3.10/site-packages (from openai) (1.3.1)\n",
      "Requirement already satisfied: jiter<1,>=0.4.0 in /Users/connorwright/.pyenv/versions/3.10.10/lib/python3.10/site-packages (from openai) (0.8.2)\n",
      "Requirement already satisfied: pydantic<3,>=1.9.0 in /Users/connorwright/.pyenv/versions/3.10.10/lib/python3.10/site-packages (from openai) (2.10.6)\n",
      "Requirement already satisfied: exceptiongroup>=1.0.2 in /Users/connorwright/.pyenv/versions/3.10.10/lib/python3.10/site-packages (from anyio<5,>=3.5.0->openai) (1.2.2)\n",
      "Requirement already satisfied: idna>=2.8 in /Users/connorwright/.pyenv/versions/3.10.10/lib/python3.10/site-packages (from anyio<5,>=3.5.0->openai) (3.10)\n",
      "Requirement already satisfied: certifi in /Users/connorwright/.pyenv/versions/3.10.10/lib/python3.10/site-packages (from httpx<1,>=0.23.0->openai) (2025.1.31)\n",
      "Requirement already satisfied: httpcore==1.* in /Users/connorwright/.pyenv/versions/3.10.10/lib/python3.10/site-packages (from httpx<1,>=0.23.0->openai) (1.0.7)\n",
      "Requirement already satisfied: h11<0.15,>=0.13 in /Users/connorwright/.pyenv/versions/3.10.10/lib/python3.10/site-packages (from httpcore==1.*->httpx<1,>=0.23.0->openai) (0.14.0)\n",
      "Requirement already satisfied: annotated-types>=0.6.0 in /Users/connorwright/.pyenv/versions/3.10.10/lib/python3.10/site-packages (from pydantic<3,>=1.9.0->openai) (0.7.0)\n",
      "Requirement already satisfied: pydantic-core==2.27.2 in /Users/connorwright/.pyenv/versions/3.10.10/lib/python3.10/site-packages (from pydantic<3,>=1.9.0->openai) (2.27.2)\n",
      "\n",
      "\u001b[1m[\u001b[0m\u001b[34;49mnotice\u001b[0m\u001b[1;39;49m]\u001b[0m\u001b[39;49m A new release of pip available: \u001b[0m\u001b[31;49m22.3.1\u001b[0m\u001b[39;49m -> \u001b[0m\u001b[32;49m25.0\u001b[0m\n",
      "\u001b[1m[\u001b[0m\u001b[34;49mnotice\u001b[0m\u001b[1;39;49m]\u001b[0m\u001b[39;49m To update, run: \u001b[0m\u001b[32;49mpip install --upgrade pip\u001b[0m\n",
      "Note: you may need to restart the kernel to use updated packages.\n",
      "Collecting webvtt-py\n",
      "  Downloading webvtt_py-0.5.1-py3-none-any.whl (19 kB)\n",
      "Installing collected packages: webvtt-py\n",
      "Successfully installed webvtt-py-0.5.1\n",
      "\n",
      "\u001b[1m[\u001b[0m\u001b[34;49mnotice\u001b[0m\u001b[1;39;49m]\u001b[0m\u001b[39;49m A new release of pip available: \u001b[0m\u001b[31;49m22.3.1\u001b[0m\u001b[39;49m -> \u001b[0m\u001b[32;49m25.0\u001b[0m\n",
      "\u001b[1m[\u001b[0m\u001b[34;49mnotice\u001b[0m\u001b[1;39;49m]\u001b[0m\u001b[39;49m To update, run: \u001b[0m\u001b[32;49mpip install --upgrade pip\u001b[0m\n",
      "Note: you may need to restart the kernel to use updated packages.\n"
     ]
    }
   ],
   "source": [
    "### pip installations\n",
    "%pip install openai\n",
    "%pip install webvtt-py\n"
   ]
  },
  {
   "cell_type": "code",
   "execution_count": 38,
   "metadata": {},
   "outputs": [],
   "source": [
    "### Package imports\n",
    "from openai import OpenAI\n",
    "import os\n",
    "import webvtt"
   ]
  },
  {
   "cell_type": "code",
   "execution_count": 69,
   "metadata": {},
   "outputs": [],
   "source": [
    "### Setup variables\n",
    "## Set file paths / language output \n",
    "folder_path = \"/Users/connorwright/Downloads/GT.CS.CodeFiles/BuzzStudios/Assets/Subtitles/\"\n",
    "vtt_name = \"frisbee-fables-cc.vtt\"\n",
    "trans_lang = \"es\"\n",
    "\n",
    "## Set API Key \n",
    "api_key = \"\"\n",
    "\n",
    "vtt_path = os.path.join(folder_path, vtt_name)"
   ]
  },
  {
   "cell_type": "code",
   "execution_count": 70,
   "metadata": {},
   "outputs": [
    {
     "name": "stdout",
     "output_type": "stream",
     "text": [
      "['[Beat heavy, tense music playing]', 'ALFRED: The dragon draws back,', 'releasing a terrible roar', 'as it prepares to let out its fire breath.', 'You’re battered but you’re still standing.', 'You can do this.', 'The dragon’s horde glimmers in the darkness of the room.', 'What do you do?', 'EMMA: I draw my sword and aim for the dragon’s tail.', 'ALFRED: [muttering] Tail, okay.', 'MICHELLE: I use my wizard staff to...repel the dragon’s fire!', 'ALFRED: Okay, okay.', '[clatter of dice being rolled]', 'Okay!', 'The dragon is almost defeated.', 'As you prepare to attack-', '[sound of record scratch]', 'LEO: Hey,', 'what are you freaks doing?', 'ALFRED: Oh, uh.', 'Hey...Leo.', 'EMMA: We were about to beat the dragon before you got here.', 'LEO: [scoffing] No you weren’t.', '[sound of DND board being flipped]\\nALFRED: HEY!', 'LEO: [mockingly] Are you mad?', 'You big baby!', 'This is why you can never make the ultimate frisbee team!', 'ALFRED: [stammering] Well, uh-', 'you’re...not gonna make it to practice if you keep messing around!', 'LEO: [scoffing] Yeah.', 'Nice comeback nerd.', 'Keep playing your stupid little game, maybe you’ll think of a better one.', '[sound of ALFRED’s head getting thwacked by a toilet seat(?)]', 'MICHELLE: Alfred,', 'your brother’s a jerk.', 'ALFRED: Yeah, well,', 'What can I do?', 'he’s faster and stronger than me.', 'EMMA: Well...', '[sound of dice being rolled]', 'Ha!', '19!', 'Fate is on your side, Alfred.', 'ALFRED: How so, Emma?', 'EMMA: He is bigger and faster than you,', 'but there’s no way he can get all three of us.', 'You know how he loves that frisbee of his?', 'ALFRED: ...Yeah?', 'EMMA: Why don’t we go get it?', 'MICHELLE: Yeah!', 'And teach him a lesson while we’re at it!', '[typewriter typing sound effect]', '[typewriter ding]\\nyeah! Yeah!', 'I mean, uh-', 'I-I know where his practice is.', 'We can take my car!', '[ALFRED slams his hands on the desk excitedly]', 'Come on!', 'We’ve got a dragon to slay!\\n[dramatic boom sound effect]', '[dramatic guitar music]', '[Leo sighs]', '[beat heavy, tense music returns]', 'ALFRED: Leo’s frisbee is gonna be in that backpack,', 'so we gotta get to it before he realizes.', 'MICHELLE: But what if he sees us?', 'ALFRED: Once we get the frisbee, then we can worry about that.', 'You two ready?', 'EMMA: Yep!', 'MICHELLE: Absolutely!', 'ALFRED: Okay, spread out to either side of me and watch my back.', 'Let’s go!', '[cheerful girly music]', '[sound of backpack being zipped open dramatically]\\n[music continues]', '[music continues]', 'Gotcha!', '[faster beat heavy music plays]\\nLEOL [angrily] Hey!', 'You’re so dead!', '[faster beat heavy music continues]', 'It’s you!', 'Of course!', 'ALFRED: Surprised to see me?', 'LEO: Not really.', 'I figured you’d do something dumb like this eventually.', 'How stupid do you think I am?', 'MICHELLE: Very stupid!', '[sound of JOEY spraying LEO]\\n[Leo grunts]', 'EMMA: Michelle!', '[sound of dice being rolled]', '[sound of ALFRED smacking LEO in the face with his own frisbee]', 'ALFRED: [smugly] Practice is over.', '[original tense, beat heavy music]', 'FRISBEE TEAM MEMBER: Next time you’ll think twice before you mess with the Frisbee Team, nerd!', '[music stops]\\n[loud boom sound effect]', 'Captioning by Abigail Pereira']\n",
      "[Beat heavy, tense music playing]\n",
      "ALFRED: The dragon draws back,\n",
      "releasing a terrible roar\n",
      "as it prepares to let out its fire breath.\n",
      "You’re battered but you’re still standing.\n",
      "You can do this.\n",
      "The dragon’s horde glimmers in the darkness of the room.\n",
      "What do you do?\n",
      "EMMA: I draw my sword and aim for the dragon’s tail.\n",
      "ALFRED: [muttering] Tail, okay.\n",
      "MICHELLE: I use my wizard staff to...repel the dragon’s fire!\n",
      "ALFRED: Okay, okay.\n",
      "[clatter of dice being rolled]\n",
      "Okay!\n",
      "The dragon is almost defeated.\n",
      "As you prepare to attack-\n",
      "[sound of record scratch]\n",
      "LEO: Hey,\n",
      "what are you freaks doing?\n",
      "ALFRED: Oh, uh.\n",
      "Hey...Leo.\n",
      "EMMA: We were about to beat the dragon before you got here.\n",
      "LEO: [scoffing] No you weren’t.\n",
      "[sound of DND board being flipped]\n",
      "ALFRED: HEY!\n",
      "LEO: [mockingly] Are you mad?\n",
      "You big baby!\n",
      "This is why you can never make the ultimate frisbee team!\n",
      "ALFRED: [stammering] Well, uh-\n",
      "you’re...not gonna make it to practice if you keep messing around!\n",
      "LEO: [scoffing] Yeah.\n",
      "Nice comeback nerd.\n",
      "Keep playing your stupid little game, maybe you’ll think of a better one.\n",
      "[sound of ALFRED’s head getting thwacked by a toilet seat(?)]\n",
      "MICHELLE: Alfred,\n",
      "your brother’s a jerk.\n",
      "ALFRED: Yeah, well,\n",
      "What can I do?\n",
      "he’s faster and stronger than me.\n",
      "EMMA: Well...\n",
      "[sound of dice being rolled]\n",
      "Ha!\n",
      "19!\n",
      "Fate is on your side, Alfred.\n",
      "ALFRED: How so, Emma?\n",
      "EMMA: He is bigger and faster than you,\n",
      "but there’s no way he can get all three of us.\n",
      "You know how he loves that frisbee of his?\n",
      "ALFRED: ...Yeah?\n",
      "EMMA: Why don’t we go get it?\n",
      "MICHELLE: Yeah!\n",
      "And teach him a lesson while we’re at it!\n",
      "[typewriter typing sound effect]\n",
      "[typewriter ding]\n",
      "yeah! Yeah!\n",
      "I mean, uh-\n",
      "I-I know where his practice is.\n",
      "We can take my car!\n",
      "[ALFRED slams his hands on the desk excitedly]\n",
      "Come on!\n",
      "We’ve got a dragon to slay!\n",
      "[dramatic boom sound effect]\n",
      "[dramatic guitar music]\n",
      "[Leo sighs]\n",
      "[beat heavy, tense music returns]\n",
      "ALFRED: Leo’s frisbee is gonna be in that backpack,\n",
      "so we gotta get to it before he realizes.\n",
      "MICHELLE: But what if he sees us?\n",
      "ALFRED: Once we get the frisbee, then we can worry about that.\n",
      "You two ready?\n",
      "EMMA: Yep!\n",
      "MICHELLE: Absolutely!\n",
      "ALFRED: Okay, spread out to either side of me and watch my back.\n",
      "Let’s go!\n",
      "[cheerful girly music]\n",
      "[sound of backpack being zipped open dramatically]\n",
      "[music continues]\n",
      "[music continues]\n",
      "Gotcha!\n",
      "[faster beat heavy music plays]\n",
      "LEOL [angrily] Hey!\n",
      "You’re so dead!\n",
      "[faster beat heavy music continues]\n",
      "It’s you!\n",
      "Of course!\n",
      "ALFRED: Surprised to see me?\n",
      "LEO: Not really.\n",
      "I figured you’d do something dumb like this eventually.\n",
      "How stupid do you think I am?\n",
      "MICHELLE: Very stupid!\n",
      "[sound of JOEY spraying LEO]\n",
      "[Leo grunts]\n",
      "EMMA: Michelle!\n",
      "[sound of dice being rolled]\n",
      "[sound of ALFRED smacking LEO in the face with his own frisbee]\n",
      "ALFRED: [smugly] Practice is over.\n",
      "[original tense, beat heavy music]\n",
      "FRISBEE TEAM MEMBER: Next time you’ll think twice before you mess with the Frisbee Team, nerd!\n",
      "[music stops]\n",
      "[loud boom sound effect]\n",
      "Captioning by Abigail Pereira\n"
     ]
    }
   ],
   "source": [
    "### Turn original captions into single string for GPT input \n",
    "captions = []\n",
    "for caption in webvtt.read(vtt_path):\n",
    "    #print(caption.start)  # start timestamp in text format\n",
    "    #print(caption.end)  # end timestamp in text format\n",
    "    #print(caption.text)  # caption text\n",
    "    #print(caption.voice)  # voice span if present\n",
    "    captions.append(caption.text)\n",
    "\n",
    "captions = \"\\n\".join(captions) if isinstance(captions, list) else str(captions)\n",
    "print(captions)\n"
   ]
  },
  {
   "cell_type": "code",
   "execution_count": 71,
   "metadata": {},
   "outputs": [
    {
     "name": "stdout",
     "output_type": "stream",
     "text": [
      "ChatCompletion(id='chatcmpl-AwEMutRKy6D9PD9hX3LQNIFRfEKys', choices=[Choice(finish_reason='stop', index=0, logprobs=None, message=ChatCompletionMessage(content='[Beat heavy, tense music playing]  \\nALFRED: El dragón retrocede,  \\nliberando un terrible rugido  \\nmientras se prepara para soltar su aliento de fuego.  \\nEstás golpeado, pero aún de pie.  \\nPuedes hacerlo.  \\nLa horda del dragón brilla en la oscuridad de la habitación.  \\n¿Qué haces?  \\nEMMA: Desenfundo mi espada y apunto a la cola del dragón.  \\nALFRED: [murmurando] Cola, está bien.  \\nMICHELLE: ¡Yo uso mi bastón de mago para...repeler el fuego del dragón!  \\nALFRED: ¡Está bien, está bien!  \\n[sonido de dados siendo lanzados]  \\n¡Está bien!  \\nEl dragón está casi derrotado.  \\nMientras te preparas para atacar-  \\n[sonido de rasguño en el disco]  \\nLEO: Oye,  \\n¿qué están haciendo ustedes, raros?  \\nALFRED: Oh, eh.  \\nHola...Leo.  \\nEMMA: Estábamos a punto de vencer al dragón antes de que llegaras.  \\nLEO: [despectivamente] No lo estaban.  \\n[sonido de tablero de DND siendo volteado]  \\nALFRED: ¡HEY!  \\nLEO: [burlándose] ¿Estás enojado?  \\n¡Eres un bebé grande!  \\n¡Por eso nunca puedes hacer el equipo de frisbee definitivo!  \\nALFRED: [balbuceando] Bueno, eh-  \\nno...no vas a llegar a la práctica si sigues jugando así.  \\nLEO: [despectivamente] Sí.  \\nBuen regreso, nerd.  \\nSigue jugando tu estúpido juego, tal vez pienses en uno mejor.  \\n[sonido de cabeza de ALFRED siendo golpeada por una tapa de inodoro(?)]  \\nMICHELLE: Alfred,  \\ntu hermano es un idiota.  \\nALFRED: Sí, bueno,  \\n¿Qué puedo hacer?  \\nes más rápido y más fuerte que yo.  \\nEMMA: Bueno...  \\n[sonido de dados siendo lanzados]  \\n¡Ha!  \\n¡19!  \\nEl destino está de tu lado, Alfred.  \\nALFRED: ¿Cómo así, Emma?  \\nEMMA: Él es más grande y más rápido que tú,  \\npero no hay forma de que pueda atraparnos a los tres.  \\n¿Sabes cuánto ama ese frisbee que tiene?  \\nALFRED: ...¿Sí?  \\nEMMA: ¿Por qué no vamos a buscarlo?  \\nMICHELLE: ¡Sí!  \\nY enseñémosle una lección mientras lo hacemos.  \\n[sonido de máquina de escribir]  \\n[sonido de campana de máquina de escribir]  \\n¡sí! ¡Sí!  \\nQuiero decir, uh-  \\nSé dónde está su práctica.  \\n¡Podemos llevar mi auto!  \\n[ALFRED golpea la mesa emocionado]  \\n¡Vamos!  \\n¡Tenemos un dragón que matar!  \\n[sonido dramático de explosión]  \\n[música de guitarra dramática]  \\n[Leo suspira]  \\n[vuelve la música tensa y con ritmo]  \\nALFRED: El frisbee de Leo va a estar en esa mochila,  \\nasí que tenemos que llegar a ello antes de que se dé cuenta.  \\nMICHELLE: Pero, ¿qué pasa si nos ve?  \\nALFRED: Una vez que tengamos el frisbee, podemos preocuparnos de eso.  \\n¿Están listas?  \\nEMMA: ¡Sí!  \\nMICHELLE: ¡Absolutamente!  \\nALFRED: Bien, distribúyanse a cada lado de mí y cuiden mi espalda.  \\n¡Vamos!  \\n[música alegre y femenina]  \\n[sonido de mochila siendo abierta dramáticamente]  \\n[música continúa]  \\n[música continúa]  \\n¡Te atrapé!  \\n[música rápida y pesada]  \\nLEO: [enojado] ¡Hey!  \\n¡Estás muerto!  \\n[música rápida y pesada continúa]  \\n¡Eres tú!  \\n¡Por supuesto!  \\nALFRED: ¿Sorprendido de verme?  \\nLEO: No realmente.  \\nSupuse que harías algo estúpido como esto eventualmente.  \\n¿Qué tan estúpido crees que soy?  \\nMICHELLE: ¡Muy estúpido!  \\n[sonido de JOEY rociando a LEO]  \\n[Leo gruñe]  \\nEMMA: ¡Michelle!  \\n[sonido de dados siendo lanzados]  \\n[sonido de ALFRED golpeando a LEO en la cara con su propio frisbee]  \\nALFRED: [con arrogancia] La práctica ha terminado.  \\n[original música tensa y pesada]  \\nMIEMBRO DEL EQUIPO DE FRISBEE: La próxima vez pensarás dos veces antes de meterte con el equipo de Frisbee, nerd.  \\n[música para]  \\n[sonido fuerte de explosión]  \\nSubtitulación por Abigail Pereira', refusal=None, role='assistant', audio=None, function_call=None, tool_calls=None))], created=1738441620, model='gpt-4o-mini-2024-07-18', object='chat.completion', service_tier='default', system_fingerprint='fp_72ed7ab54c', usage=CompletionUsage(completion_tokens=1068, prompt_tokens=990, total_tokens=2058, completion_tokens_details=CompletionTokensDetails(accepted_prediction_tokens=0, audio_tokens=0, reasoning_tokens=0, rejected_prediction_tokens=0), prompt_tokens_details=PromptTokensDetails(audio_tokens=0, cached_tokens=0)))\n"
     ]
    }
   ],
   "source": [
    "### Setup OpenAI client and context\n",
    "#client = OpenAI(api_key=\"\", base_url=\"https://api.deepseek.com\")\n",
    "client = OpenAI(api_key=api_key)\n",
    "\n",
    "response = client.chat.completions.create(\n",
    "    model=\"gpt-4o-mini\",\n",
    "    messages=[\n",
    "        {\"role\": \"system\", \"content\": \"You are a professional subtitle translator. \\\n",
    "            You will only receive a string transcription of a vtt file containing subtitles in English. \\\n",
    "            You will only output a translation of the subtitles and bracketed actions. \\\n",
    "            Do not add anything else to your reply.\\\n",
    "            Do not merge sentences, translate each line individually. \\\n",
    "            Return the translated subtitles in the same order and length as the input. \\\n",
    "            Your steps are as follows: \\\n",
    "            1. Parse the input subtitles \\\n",
    "            2. Translate the input subtitles into {trans_lang} \\\n",
    "            3. Alter the translated subtitles into more fluent sentences \\\n",
    "            4. Use the setResult method to output the translated subtitles as a string[] \\\n",
    "         \"},\n",
    "        {\"role\": \"user\", \"content\": captions}\n",
    "    ]\n",
    ")\n",
    "\n",
    "print(response)"
   ]
  },
  {
   "cell_type": "code",
   "execution_count": 72,
   "metadata": {},
   "outputs": [
    {
     "name": "stdout",
     "output_type": "stream",
     "text": [
      "['[Beat heavy, tense music playing]  ', 'ALFRED: El dragón retrocede,  ', 'liberando un terrible rugido  ', 'mientras se prepara para soltar su aliento de fuego.  ', 'Estás golpeado, pero aún de pie.  ', 'Puedes hacerlo.  ', 'La horda del dragón brilla en la oscuridad de la habitación.  ', '¿Qué haces?  ', 'EMMA: Desenfundo mi espada y apunto a la cola del dragón.  ', 'ALFRED: [murmurando] Cola, está bien.  ', 'MICHELLE: ¡Yo uso mi bastón de mago para...repeler el fuego del dragón!  ', 'ALFRED: ¡Está bien, está bien!  ', '[sonido de dados siendo lanzados]  ', '¡Está bien!  ', 'El dragón está casi derrotado.  ', 'Mientras te preparas para atacar-  ', '[sonido de rasguño en el disco]  ', 'LEO: Oye,  ', '¿qué están haciendo ustedes, raros?  ', 'ALFRED: Oh, eh.  ', 'Hola...Leo.  ', 'EMMA: Estábamos a punto de vencer al dragón antes de que llegaras.  ', 'LEO: [despectivamente] No lo estaban.  ', '[sonido de tablero de DND siendo volteado]  ', 'ALFRED: ¡HEY!  ', 'LEO: [burlándose] ¿Estás enojado?  ', '¡Eres un bebé grande!  ', '¡Por eso nunca puedes hacer el equipo de frisbee definitivo!  ', 'ALFRED: [balbuceando] Bueno, eh-  ', 'no...no vas a llegar a la práctica si sigues jugando así.  ', 'LEO: [despectivamente] Sí.  ', 'Buen regreso, nerd.  ', 'Sigue jugando tu estúpido juego, tal vez pienses en uno mejor.  ', '[sonido de cabeza de ALFRED siendo golpeada por una tapa de inodoro(?)]  ', 'MICHELLE: Alfred,  ', 'tu hermano es un idiota.  ', 'ALFRED: Sí, bueno,  ', '¿Qué puedo hacer?  ', 'es más rápido y más fuerte que yo.  ', 'EMMA: Bueno...  ', '[sonido de dados siendo lanzados]  ', '¡Ha!  ', '¡19!  ', 'El destino está de tu lado, Alfred.  ', 'ALFRED: ¿Cómo así, Emma?  ', 'EMMA: Él es más grande y más rápido que tú,  ', 'pero no hay forma de que pueda atraparnos a los tres.  ', '¿Sabes cuánto ama ese frisbee que tiene?  ', 'ALFRED: ...¿Sí?  ', 'EMMA: ¿Por qué no vamos a buscarlo?  ', 'MICHELLE: ¡Sí!  ', 'Y enseñémosle una lección mientras lo hacemos.  ', '[sonido de máquina de escribir]  ', '[sonido de campana de máquina de escribir]  ', '¡sí! ¡Sí!  ', 'Quiero decir, uh-  ', 'Sé dónde está su práctica.  ', '¡Podemos llevar mi auto!  ', '[ALFRED golpea la mesa emocionado]  ', '¡Vamos!  ', '¡Tenemos un dragón que matar!  ', '[sonido dramático de explosión]  ', '[música de guitarra dramática]  ', '[Leo suspira]  ', '[vuelve la música tensa y con ritmo]  ', 'ALFRED: El frisbee de Leo va a estar en esa mochila,  ', 'así que tenemos que llegar a ello antes de que se dé cuenta.  ', 'MICHELLE: Pero, ¿qué pasa si nos ve?  ', 'ALFRED: Una vez que tengamos el frisbee, podemos preocuparnos de eso.  ', '¿Están listas?  ', 'EMMA: ¡Sí!  ', 'MICHELLE: ¡Absolutamente!  ', 'ALFRED: Bien, distribúyanse a cada lado de mí y cuiden mi espalda.  ', '¡Vamos!  ', '[música alegre y femenina]  ', '[sonido de mochila siendo abierta dramáticamente]  ', '[música continúa]  ', '[música continúa]  ', '¡Te atrapé!  ', '[música rápida y pesada]  ', 'LEO: [enojado] ¡Hey!  ', '¡Estás muerto!  ', '[música rápida y pesada continúa]  ', '¡Eres tú!  ', '¡Por supuesto!  ', 'ALFRED: ¿Sorprendido de verme?  ', 'LEO: No realmente.  ', 'Supuse que harías algo estúpido como esto eventualmente.  ', '¿Qué tan estúpido crees que soy?  ', 'MICHELLE: ¡Muy estúpido!  ', '[sonido de JOEY rociando a LEO]  ', '[Leo gruñe]  ', 'EMMA: ¡Michelle!  ', '[sonido de dados siendo lanzados]  ', '[sonido de ALFRED golpeando a LEO en la cara con su propio frisbee]  ', 'ALFRED: [con arrogancia] La práctica ha terminado.  ', '[original música tensa y pesada]  ', 'MIEMBRO DEL EQUIPO DE FRISBEE: La próxima vez pensarás dos veces antes de meterte con el equipo de Frisbee, nerd.  ', '[música para]  ', '[sonido fuerte de explosión]  ', 'Subtitulación por Abigail Pereira']\n"
     ]
    }
   ],
   "source": [
    "### Save translated captions as new vtt file \n",
    "\n",
    "## Get GPT response as string, split into list\n",
    "trans_str = str(response.choices[0].message.content)\n",
    "trans_list = trans_str.split(\"\\n\")\n",
    "print(trans_list)\n",
    "\n",
    "## Edit caption files to match translations, accounting for multi-line texts \n",
    "trans_vtt = webvtt.read(vtt_path)\n",
    "line_index = 0\n",
    "for caption in trans_vtt:\n",
    "    num_lines = len(caption.text.split(\"\\n\"))\n",
    "    trans_lines = trans_list[line_index:line_index+num_lines]\n",
    "    caption.text = \"\\n\".join(trans_lines)\n",
    "    line_index += num_lines\n",
    "\n",
    "## Save as new file w/ specified language name \n",
    "trans_filename = str(os.path.splitext(vtt_name)[0]) + '-' + str(trans_lang) + '.vtt'\n",
    "trans_path = os.path.join(folder_path, trans_filename)\n",
    "trans_vtt.save(trans_path)"
   ]
  }
 ],
 "metadata": {
  "kernelspec": {
   "display_name": "Python 3",
   "language": "python",
   "name": "python3"
  },
  "language_info": {
   "codemirror_mode": {
    "name": "ipython",
    "version": 3
   },
   "file_extension": ".py",
   "mimetype": "text/x-python",
   "name": "python",
   "nbconvert_exporter": "python",
   "pygments_lexer": "ipython3",
   "version": "3.10.10"
  }
 },
 "nbformat": 4,
 "nbformat_minor": 2
}
